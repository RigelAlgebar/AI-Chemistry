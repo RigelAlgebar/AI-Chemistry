{
 "cells": [
  {
   "cell_type": "markdown",
   "metadata": {
    "id": "GY5Qd-g_9t0a"
   },
   "source": [
    "\n",
    "<br>\n",
    "<center>\n",
    "<font size='7' style=\"color:#0D47A1\">  <b>Exploratory Analysis & <br><br> Feature Selection</b> </font>\n",
    "</center>\n",
    "\n",
    "<hr style= \"height:3px;\">\n",
    "<br>"
   ]
  },
  {
   "cell_type": "markdown",
   "metadata": {
    "id": "OFk2EHaz9t0b"
   },
   "source": [
    "\n",
    "<hr style= \"height:1px;\">\n",
    "<font size='6' style=\"color:#000000\">  <b>Content</b> </font>\n",
    "<a name=\"content\"></a>\n",
    "<br>\n",
    "<br>\n",
    "\n",
    "1. [Abstract](#abstract) \n",
    "<br>\n",
    "\n",
    "2. [Setup](#setup)\n",
    "<br>\n",
    "\n",
    "3. [Loading Data](#loading)\n",
    "<br>\n",
    "\n",
    "4. [Explore the Data](#exploration)\n",
    "<br>\n",
    "\n",
    "5. [Data Cleaning](#cleaning)\n",
    "<br>\n",
    "\n",
    "6. [Feature Selection](#features)\n",
    "<br>\n",
    "\n",
    "7. [Results & Discussion](#results)\n",
    "<br>\n",
    "\n",
    "8. [Perspectives](#perspectives)\n",
    "<br>\n",
    "\n",
    "9. [References](#references)\n",
    "<br>\n",
    "\n",
    "<hr style= \"height:1px;\">\n",
    "\n",
    "<br>\n",
    "<br>\n",
    "<br>"
   ]
  },
  {
   "cell_type": "markdown",
   "metadata": {
    "id": "ZToLi9gw9t0c"
   },
   "source": [
    "<font size='6' style=\"color:#00A6D6\">  <b>1. Abstract</b> </font>\n",
    "<a name=\"setup\"></a>\n",
    "\n",
    "[[ Back to Top ]](#content)\n",
    "<br>\n",
    "<br>\n",
    "\n",
    "<font size='4'>\n",
    "\n",
    "In this Notebook e performed a basic data exploration, cleaning, analysis and feature selection for the Delaney's solubility dataset. After removing anomalous data points from the dataset and performing feature selection we save the new dataset as a csv file to use it for ML models. \n",
    "\n",
    "</font> "
   ]
  },
  {
   "cell_type": "markdown",
   "metadata": {
    "id": "U-CswaCG9t0d"
   },
   "source": [
    "<br>\n",
    "<br>\n",
    "<font size='5' style=\"color:#4CAF50\">  <b>Purpose</b></font>\n",
    "\n",
    "<br>\n",
    "<font size='4'>\n",
    "    \n",
    "We will perform data cleaning, data analysis and feature selection of the raw dataset to obtain more accurate ML models. \n",
    "\n",
    "</font> \n",
    "\n",
    "\n",
    "<br>\n",
    "<br>\n"
   ]
  },
  {
   "cell_type": "markdown",
   "metadata": {
    "id": "smUFAF8V9t0e"
   },
   "source": [
    "<br>\n",
    "<br>\n",
    "<font size='5' style=\"color:#4CAF50\">  <b>Goals</b></font>\n",
    "\n",
    "\n",
    " - Remove anomalies from the dataset.\n",
    " - Perform a feature importance ranking.\n",
    " - Add relevant molecular descriptors as features.\n",
    " - Perform a multocollinearity analysis of the features.\n",
    " - Obtain a new processed dataset for the ML models.\n",
    " "
   ]
  },
  {
   "cell_type": "markdown",
   "metadata": {
    "id": "lzOx7sdf9t0e"
   },
   "source": [
    "<br>\n",
    "<br>\n",
    "<font size='5' style=\"color:#4CAF50\">  <b>Methodology/Plan</b></font>\n",
    "\n",
    "1. Data Cleaning.\n",
    " - Remove anomalies.\n",
    "2. Feature Selection.\n",
    " - Ranking if the origianl features.\n",
    " - Add relevant molecular descriptors.\n",
    " - Ranking of new features.\n",
    "3. Generate new pre-processed dataset.\n",
    " \n"
   ]
  },
  {
   "cell_type": "markdown",
   "metadata": {
    "id": "CUNdoKNY9t0f"
   },
   "source": [
    "\n",
    "<br>\n",
    "<br>\n",
    "<br>\n",
    "<br>\n",
    "<br>\n",
    "<br>\n",
    "<br>\n",
    "\n",
    "<font size='6' style=\"color:#00A6D6\">  <b>2. Setup</b> </font>\n",
    "<a name=\"setup\"></a>\n",
    "\n",
    "[[ Back to Top ]](#content)\n",
    "<br>\n",
    "<br>\n",
    "\n",
    "The following imports are divided by sections according to their role in the notebook. \n",
    "\n"
   ]
  },
  {
   "cell_type": "code",
   "execution_count": null,
   "metadata": {
    "colab": {
     "base_uri": "https://localhost:8080/"
    },
    "executionInfo": {
     "elapsed": 2856,
     "status": "ok",
     "timestamp": 1629688362736,
     "user": {
      "displayName": "",
      "photoUrl": "",
      "userId": ""
     },
     "user_tz": 300
    },
    "id": "gPilYXG59t0g",
    "outputId": "be21e0e9-9768-4b60-ae48-434d8e02c893"
   },
   "outputs": [],
   "source": [
    "\n",
    "# Data Science \n",
    "# ==============================================================================\n",
    "import pandas as pd\n",
    "import numpy as np\n",
    "\n",
    "\n",
    "# Sklearn Basic imports\n",
    "# ==============================================================================\n",
    "from sklearn import metrics\n",
    "from sklearn.model_selection import train_test_split\n",
    "\n",
    "\n",
    "# Sklearn ML model realted imports\n",
    "# ==============================================================================\n",
    "from sklearn.preprocessing import StandardScaler\n",
    "from sklearn.ensemble import RandomForestRegressor\n",
    "\n",
    "\n",
    "# Sklearn anomaly detection and feature selection\n",
    "# ==============================================================================\n",
    "from sklearn.ensemble import IsolationForest\n",
    "from sklearn.inspection import permutation_importance\n",
    "\n",
    "\n",
    "# Rdkit import for molecular features\n",
    "# ==============================================================================\n",
    "!pip install rdkit-pypi\n",
    "import rdkit\n",
    "import rdkit.Chem\n",
    "import rdkit.Chem.Fragments\n",
    "import rdkit.Chem.Descriptors\n",
    "import rdkit.Chem.rdchem\n",
    "from rdkit.Chem import Draw\n",
    "\n",
    "\n",
    "# Multicollinearity analysis\n",
    "# ==============================================================================\n",
    "from scipy.stats import spearmanr\n",
    "from scipy.cluster import hierarchy\n",
    "\n",
    "\n",
    "# Ploting \n",
    "# ==============================================================================\n",
    "import matplotlib.pyplot as plt\n",
    "import seaborn as sns\n",
    "\n",
    "\n",
    "# Image processing\n",
    "# ==============================================================================\n",
    "from PIL import Image\n",
    "import io\n",
    "\n",
    "\n",
    "# HTML Widgets\n",
    "# ==============================================================================\n",
    "import plotly.graph_objs as go\n",
    "from ipywidgets import HTML\n",
    "from ipywidgets import Image, Layout\n",
    "from ipywidgets import HBox, VBox\n"
   ]
  },
  {
   "cell_type": "code",
   "execution_count": null,
   "metadata": {
    "executionInfo": {
     "elapsed": 8,
     "status": "ok",
     "timestamp": 1629688362736,
     "user": {
      "displayName": "",
      "photoUrl": "",
      "userId": ""
     },
     "user_tz": 300
    },
    "id": "stybT9sX9t0h"
   },
   "outputs": [],
   "source": [
    "import bokeh"
   ]
  },
  {
   "cell_type": "markdown",
   "metadata": {
    "id": "ATaz2n8D9t0i"
   },
   "source": [
    "<br>\n",
    "<br>\n",
    "<br>\n",
    "<br>\n",
    "<br>\n",
    "<br>\n",
    "<br>\n",
    "<br>\n",
    "<br>\n",
    "<br>\n",
    "\n",
    "<font size='6' style=\"color:#00A6D6\">  <b>3. Loading Data</b> </font>\n",
    "<a name=\"loading\"></a>\n",
    "\n",
    "[[ Back to Top ]](#content)\n",
    "\n",
    "<br>\n",
    "<br>\n",
    "<br>\n"
   ]
  },
  {
   "cell_type": "code",
   "execution_count": null,
   "metadata": {
    "colab": {
     "base_uri": "https://localhost:8080/",
     "height": 237
    },
    "executionInfo": {
     "elapsed": 157,
     "status": "ok",
     "timestamp": 1629688362885,
     "user": {
      "displayName": "",
      "photoUrl": "",
      "userId": ""
     },
     "user_tz": 300
    },
    "id": "-fwhq3oG9t0i",
    "outputId": "352d9b72-a012-4608-bbd4-dc21f2329b25"
   },
   "outputs": [],
   "source": [
    "\n",
    "# Load the raw data\n",
    "# ==============================================================================\n",
    "df_raw = pd.read_csv('https://raw.githubusercontent.com/LilianaArguello/RIIA_test/main/data/delaney-processed.csv')\n",
    "df_raw.head()\n"
   ]
  },
  {
   "cell_type": "code",
   "execution_count": null,
   "metadata": {
    "colab": {
     "base_uri": "https://localhost:8080/",
     "height": 312
    },
    "executionInfo": {
     "elapsed": 9,
     "status": "ok",
     "timestamp": 1629688362886,
     "user": {
      "displayName": "",
      "photoUrl": "",
      "userId": ""
     },
     "user_tz": 300
    },
    "id": "3ujGoabT9t0i",
    "outputId": "c752d73c-d8ab-4ad6-acd6-144fafbd8885"
   },
   "outputs": [],
   "source": [
    "\n",
    "# Quick overview of the data statistics\n",
    "# ==============================================================================\n",
    "df_raw.describe()\n"
   ]
  },
  {
   "cell_type": "code",
   "execution_count": null,
   "metadata": {
    "colab": {
     "base_uri": "https://localhost:8080/",
     "height": 220
    },
    "executionInfo": {
     "elapsed": 7,
     "status": "ok",
     "timestamp": 1629688362886,
     "user": {
      "displayName": "",
      "photoUrl": "",
      "userId": ""
     },
     "user_tz": 300
    },
    "id": "_3ujp1Mo9t0j",
    "outputId": "4af44bf0-0c6b-4b57-c441-abc11ea51e5f"
   },
   "outputs": [],
   "source": [
    "\n",
    "# We whould never modify the raw external data so here we take the data we need and store it in our own\n",
    "# dataframe for further analysis\n",
    "# ==============================================================================\n",
    "df = df_raw[['Molecular Weight','Minimum Degree','Number of H-Bond Donors','Number of Rotatable Bonds',\n",
    "             'Polar Surface Area','Number of Rings','smiles','measured log solubility in mols per litre']]\n",
    "df.head()\n"
   ]
  },
  {
   "cell_type": "code",
   "execution_count": null,
   "metadata": {
    "colab": {
     "base_uri": "https://localhost:8080/",
     "height": 357
    },
    "executionInfo": {
     "elapsed": 313,
     "status": "ok",
     "timestamp": 1629688363193,
     "user": {
      "displayName": "",
      "photoUrl": "",
      "userId": ""
     },
     "user_tz": 300
    },
    "id": "Q4MC-vpv9t0j",
    "outputId": "482e21e4-2ce8-4e69-ae2a-28e3a40c55d1"
   },
   "outputs": [],
   "source": [
    "\n",
    "# Let's take a look at the molecules' statistics grouping them by their number of rings\n",
    "# Having rings is an important molecular descriptor \n",
    "# ==============================================================================\n",
    "df.groupby('Number of Rings').describe()['Molecular Weight']\n"
   ]
  },
  {
   "cell_type": "code",
   "execution_count": null,
   "metadata": {
    "executionInfo": {
     "elapsed": 123,
     "status": "ok",
     "timestamp": 1629688363313,
     "user": {
      "displayName": "",
      "photoUrl": "",
      "userId": ""
     },
     "user_tz": 300
    },
    "id": "8rw8kX7o9t0k"
   },
   "outputs": [],
   "source": [
    "\n",
    "# Generate the Python Mols objects\n",
    "# ==============================================================================\n",
    "df_raw['mol'] = df_raw['smiles'].apply(lambda x: rdkit.Chem.MolFromSmiles(x))\n"
   ]
  },
  {
   "cell_type": "code",
   "execution_count": null,
   "metadata": {
    "executionInfo": {
     "elapsed": 7907,
     "status": "ok",
     "timestamp": 1629688371219,
     "user": {
      "displayName": "",
      "photoUrl": "",
      "userId": ""
     },
     "user_tz": 300
    },
    "id": "7UPxKuoy9t0k"
   },
   "outputs": [],
   "source": [
    "\n",
    "# Generate the images for the molecules\n",
    "# ==============================================================================\n",
    "df_raw['img'] = df_raw['mol'].apply(lambda m: Draw.MolToImage(m))\n"
   ]
  },
  {
   "cell_type": "markdown",
   "metadata": {
    "id": "HFNJu3j29t0k"
   },
   "source": [
    "<br>\n",
    "<br>\n",
    "<br>\n",
    "<br>\n",
    "<br>\n",
    "<br>\n",
    "<br>\n",
    "<br>\n",
    "<br>\n",
    "<br>\n",
    "\n",
    "<font size='6' style=\"color:#00A6D6\">  <b>4. Explore the Data</b> </font>\n",
    "<a name=\"exploration\"></a>\n",
    "\n",
    "[[ Back to Top ]](#content)\n",
    "\n",
    "<br>\n",
    "<br>\n",
    "<br>\n"
   ]
  },
  {
   "cell_type": "code",
   "execution_count": null,
   "metadata": {
    "colab": {
     "base_uri": "https://localhost:8080/",
     "height": 513
    },
    "executionInfo": {
     "elapsed": 1364,
     "status": "ok",
     "timestamp": 1629688372574,
     "user": {
      "displayName": "",
      "photoUrl": "",
      "userId": ""
     },
     "user_tz": 300
    },
    "id": "zhF2psll9t0k",
    "outputId": "599c3e54-26d5-4eca-f16f-080f46d3acb4"
   },
   "outputs": [],
   "source": [
    "\n",
    "# It is important to know the distribution of the target variable\n",
    "# ==============================================================================\n",
    "sol_hist = sns.displot(x='measured log solubility in mols per litre', hue='Number of Rings', \n",
    "           palette='rainbow', height=7, data=df, multiple=\"stack\")\n",
    "\n",
    "sol_hist.fig.set_figwidth(15)\n",
    "plt.xlim(-12, 2)\n",
    "plt.show()\n"
   ]
  },
  {
   "cell_type": "code",
   "execution_count": null,
   "metadata": {
    "colab": {
     "base_uri": "https://localhost:8080/",
     "height": 513
    },
    "executionInfo": {
     "elapsed": 1233,
     "status": "ok",
     "timestamp": 1629688373805,
     "user": {
      "displayName": "",
      "photoUrl": "",
      "userId": ""
     },
     "user_tz": 300
    },
    "id": "Qjn_5UvS9t0l",
    "outputId": "c67acb8b-7c05-4b8b-fadf-16aa8678cb9c"
   },
   "outputs": [],
   "source": [
    "\n",
    "# We should also know how our independent varibles are distributed\n",
    "# ==============================================================================\n",
    "mw_hist = sns.displot(x='Molecular Weight', hue='Number of Rings', palette='rainbow', height=7,\n",
    "           data=df, multiple=\"stack\")\n",
    "\n",
    "mw_hist.fig.set_figwidth(15)\n",
    "plt.xlim(0,800)\n",
    "plt.show()\n"
   ]
  },
  {
   "cell_type": "code",
   "execution_count": null,
   "metadata": {
    "colab": {
     "base_uri": "https://localhost:8080/",
     "height": 513
    },
    "executionInfo": {
     "elapsed": 1329,
     "status": "ok",
     "timestamp": 1629688375133,
     "user": {
      "displayName": "",
      "photoUrl": "",
      "userId": ""
     },
     "user_tz": 300
    },
    "id": "JHpczFH_9t0l",
    "outputId": "1b6cddb4-a869-4d05-f08b-654797bfffaa"
   },
   "outputs": [],
   "source": [
    "\n",
    "# Here we show the distribution of both the solubility and the molecular weight.\n",
    "# Both variables grouped by the number of rings in the molecules.\n",
    "# ==============================================================================\n",
    "jointplot_mw = sns.jointplot(x='Molecular Weight', y='measured log solubility in mols per litre', \n",
    "               hue='Number of Rings', \n",
    "               palette='rainbow', height=7,\n",
    "               data=df)\n",
    "\n",
    "jointplot_mw.fig.set_figwidth(15)\n",
    "plt.ylim(-12,2)\n",
    "plt.show()\n"
   ]
  },
  {
   "cell_type": "code",
   "execution_count": null,
   "metadata": {
    "colab": {
     "base_uri": "https://localhost:8080/",
     "height": 513
    },
    "executionInfo": {
     "elapsed": 967,
     "status": "ok",
     "timestamp": 1629688376098,
     "user": {
      "displayName": "",
      "photoUrl": "",
      "userId": ""
     },
     "user_tz": 300
    },
    "id": "IZWwW0xM9t0l",
    "outputId": "acf0da43-b2ab-4595-9265-492f1b9c0b18"
   },
   "outputs": [],
   "source": [
    "\n",
    "# Same analysis as before for the polar surface area\n",
    "# ==============================================================================\n",
    "sol_hist = sns.displot(x='Polar Surface Area', hue='Number of Rings', palette='rainbow', height=7,\n",
    "           data=df, multiple=\"stack\")\n",
    "\n",
    "sol_hist.fig.set_figwidth(15)\n",
    "plt.xlim(0,280)\n",
    "plt.show()\n"
   ]
  },
  {
   "cell_type": "code",
   "execution_count": null,
   "metadata": {
    "colab": {
     "base_uri": "https://localhost:8080/",
     "height": 497
    },
    "executionInfo": {
     "elapsed": 476,
     "status": "ok",
     "timestamp": 1629688376572,
     "user": {
      "displayName": "",
      "photoUrl": "",
      "userId": ""
     },
     "user_tz": 300
    },
    "id": "2cYvyqWm9t0l",
    "outputId": "f25da9f0-e5dd-4fd1-df26-996bf51646b9"
   },
   "outputs": [],
   "source": [
    "\n",
    "# This violon plot shows the distribution of the measured solubilities as a funciton of molecular weight\n",
    "# Molecules are again gruped by their number of rings\n",
    "# ==============================================================================\n",
    "plt.figure(figsize=(15,8))\n",
    "\n",
    "mw_boxplot = sns.violinplot(x='Number of Rings', y='measured log solubility in mols per litre',  \n",
    "             palette='rainbow',\n",
    "             data=df)\n",
    "\n",
    "\n",
    "plt.show()\n"
   ]
  },
  {
   "cell_type": "code",
   "execution_count": null,
   "metadata": {
    "colab": {
     "base_uri": "https://localhost:8080/",
     "height": 241
    },
    "executionInfo": {
     "elapsed": 1597,
     "status": "ok",
     "timestamp": 1629688378165,
     "user": {
      "displayName": "",
      "photoUrl": "",
      "userId": ""
     },
     "user_tz": 300
    },
    "id": "nNIbtjyJ9t0m",
    "outputId": "2b19faad-595f-434f-b386-1aa795e9b989",
    "scrolled": false
   },
   "outputs": [],
   "source": [
    "\n",
    "# Here we show the relationship that exist beetwenn our tarhet variablle and the independent variables\n",
    "# ==============================================================================\n",
    "sns.set_context(\"paper\")\n",
    "pairplot = sns.pairplot(df,\n",
    "             x_vars=['Molecular Weight','Number of H-Bond Donors',\n",
    "                     'Number of Rotatable Bonds','Polar Surface Area'],\n",
    "             y_vars=['measured log solubility in mols per litre'],\n",
    "             hue='Number of Rings',\n",
    "             palette='rainbow')\n",
    "\n",
    "pairplot.fig.set_figheight(5)\n",
    "pairplot.fig.set_figwidth(15)\n",
    "\n",
    "\n",
    "plt.show()"
   ]
  },
  {
   "cell_type": "code",
   "execution_count": null,
   "metadata": {
    "colab": {
     "base_uri": "https://localhost:8080/",
     "height": 857
    },
    "executionInfo": {
     "elapsed": 7,
     "status": "ok",
     "timestamp": 1629688378169,
     "user": {
      "displayName": "",
      "photoUrl": "",
      "userId": ""
     },
     "user_tz": 300
    },
    "id": "hj59hV7W9t0m",
    "outputId": "75a3d3d6-eea7-403d-8975-bdba1e2ca21e"
   },
   "outputs": [],
   "source": [
    "df_raw"
   ]
  },
  {
   "cell_type": "code",
   "execution_count": null,
   "metadata": {
    "executionInfo": {
     "elapsed": 7,
     "status": "ok",
     "timestamp": 1629688378170,
     "user": {
      "displayName": "",
      "photoUrl": "",
      "userId": ""
     },
     "user_tz": 300
    },
    "id": "6vzs_mut9t0m"
   },
   "outputs": [],
   "source": [
    "from rdkit.Chem import PandasTools"
   ]
  },
  {
   "cell_type": "code",
   "execution_count": null,
   "metadata": {
    "executionInfo": {
     "elapsed": 6,
     "status": "ok",
     "timestamp": 1629688378170,
     "user": {
      "displayName": "",
      "photoUrl": "",
      "userId": ""
     },
     "user_tz": 300
    },
    "id": "G7f4cwcd9t0m"
   },
   "outputs": [],
   "source": [
    "\n",
    "# Generate the Python Mols objects\n",
    "# ==============================================================================\n",
    "df_raw['mol'] = df_raw['smiles'].apply(lambda x: rdkit.Chem.MolFromSmiles(x))"
   ]
  },
  {
   "cell_type": "code",
   "execution_count": null,
   "metadata": {
    "executionInfo": {
     "elapsed": 8471,
     "status": "ok",
     "timestamp": 1629688386635,
     "user": {
      "displayName": "",
      "photoUrl": "",
      "userId": ""
     },
     "user_tz": 300
    },
    "id": "ysks80479t0n"
   },
   "outputs": [],
   "source": [
    "\n",
    "# Generate the images for the molecules\n",
    "# ==============================================================================\n",
    "df_raw['img'] = df_raw['mol'].apply(lambda m: rdkit.Chem.Draw.MolToImage(m))"
   ]
  },
  {
   "cell_type": "code",
   "execution_count": null,
   "metadata": {
    "colab": {
     "base_uri": "https://localhost:8080/",
     "height": 317
    },
    "executionInfo": {
     "elapsed": 20,
     "status": "ok",
     "timestamp": 1629688386642,
     "user": {
      "displayName": "",
      "photoUrl": "",
      "userId": ""
     },
     "user_tz": 300
    },
    "id": "BGRU2D719t0n",
    "outputId": "3f357c8d-fb33-4eb5-bca9-869f829d55b5"
   },
   "outputs": [],
   "source": [
    "\n",
    "# Single molecule drawing\n",
    "# ==============================================================================\n",
    "df_raw.iloc[0]['img']"
   ]
  },
  {
   "cell_type": "code",
   "execution_count": null,
   "metadata": {
    "colab": {
     "base_uri": "https://localhost:8080/",
     "height": 317
    },
    "executionInfo": {
     "elapsed": 20,
     "status": "ok",
     "timestamp": 1629688386643,
     "user": {
      "displayName": "",
      "photoUrl": "",
      "userId": ""
     },
     "user_tz": 300
    },
    "id": "Vq5Nf1L99t0n",
    "outputId": "84a9900f-68b3-4999-c02b-146ffa6ee860"
   },
   "outputs": [],
   "source": [
    "\n",
    "# Single molecule drawing\n",
    "# ==============================================================================\n",
    "df_raw.iloc[1]['img']"
   ]
  },
  {
   "cell_type": "code",
   "execution_count": null,
   "metadata": {
    "colab": {
     "base_uri": "https://localhost:8080/",
     "height": 317
    },
    "executionInfo": {
     "elapsed": 19,
     "status": "ok",
     "timestamp": 1629688386643,
     "user": {
      "displayName": "",
      "photoUrl": "",
      "userId": ""
     },
     "user_tz": 300
    },
    "id": "g58k2lvA9t0n",
    "outputId": "43666d63-a029-4f30-a200-1c861ce7424f",
    "scrolled": true
   },
   "outputs": [],
   "source": [
    "\n",
    "# Single molecule drawing\n",
    "# ==============================================================================\n",
    "df_raw.iloc[2]['img']"
   ]
  },
  {
   "cell_type": "code",
   "execution_count": null,
   "metadata": {},
   "outputs": [],
   "source": [
    "\n",
    "# Generate the interactive figure\n",
    "# ==============================================================================\n",
    "fig = go.FigureWidget(\n",
    "    data=[\n",
    "        dict(\n",
    "            type='scattergl',\n",
    "            x=df_raw['Molecular Weight'],\n",
    "            y=df_raw['ESOL predicted log solubility in mols per litre'],\n",
    "            mode='markers',\n",
    "        )\n",
    "    ],\n",
    ")"
   ]
  },
  {
   "cell_type": "code",
   "execution_count": null,
   "metadata": {},
   "outputs": [],
   "source": [
    "\n",
    "# See the scatter protion of the figure\n",
    "# ==============================================================================\n",
    "scatter = fig.data[0]\n"
   ]
  },
  {
   "cell_type": "code",
   "execution_count": null,
   "metadata": {},
   "outputs": [],
   "source": [
    "\n",
    "# Look at the scatter parameters\n",
    "# ==============================================================================\n",
    "scatter\n"
   ]
  },
  {
   "cell_type": "code",
   "execution_count": null,
   "metadata": {},
   "outputs": [],
   "source": [
    "\n",
    "# Titles, size anf font\n",
    "# ==============================================================================\n",
    "fig.layout.title = 'Solubility'\n",
    "fig.layout.titlefont.size = 22\n",
    "fig.layout.titlefont.family = 'Rockwell'\n",
    "fig.layout.xaxis.title = 'Molecular Weight'\n",
    "fig.layout.yaxis.title = 'log solubility in mols per litre'\n"
   ]
  },
  {
   "cell_type": "code",
   "execution_count": null,
   "metadata": {},
   "outputs": [],
   "source": [
    "\n",
    "# Avoid overlaps\n",
    "# ==============================================================================\n",
    "N = len(df_raw)\n",
    "scatter.x = scatter.x + np.random.rand(N) * 10\n",
    "scatter.y = scatter.y + np.random.rand(N) * 1\n"
   ]
  },
  {
   "cell_type": "code",
   "execution_count": null,
   "metadata": {},
   "outputs": [],
   "source": [
    "\n",
    "# Set the opacity\n",
    "# ==============================================================================\n",
    "scatter.marker.opacity = 0.5\n"
   ]
  },
  {
   "cell_type": "code",
   "execution_count": null,
   "metadata": {},
   "outputs": [],
   "source": [
    "\n",
    "# Hovering mode\n",
    "# ==============================================================================\n",
    "fig.layout.hovermode = 'closest'\n"
   ]
  },
  {
   "cell_type": "code",
   "execution_count": null,
   "metadata": {},
   "outputs": [],
   "source": [
    "\n",
    "# Process the PIL Image from rdkit\n",
    "# ==============================================================================\n",
    "def image_to_byte_array(image:Image):\n",
    "    imgByteArr = io.BytesIO()\n",
    "    image.save(imgByteArr, format= 'PNG')\n",
    "    imgByteArr = imgByteArr.getvalue()\n",
    "    \n",
    "    return imgByteArr\n"
   ]
  },
  {
   "cell_type": "code",
   "execution_count": null,
   "metadata": {},
   "outputs": [],
   "source": [
    "\n",
    "# Hovering function\n",
    "# ==============================================================================\n",
    "def hover_fn(trace, points, state):\n",
    "\n",
    "    ind = points.point_inds[0]\n",
    "\n",
    "    # Update details HTML widget\n",
    "    details.value = df_raw[['Molecular Weight','smiles']].iloc[ind].to_frame().to_html()\n",
    "\n",
    "    # Update image widget\n",
    "    molecule = df_raw['img'][ind]#.replace(' ', '_')\n",
    "    image_widget.value = image_to_byte_array(molecule)\n",
    "    "
   ]
  },
  {
   "cell_type": "code",
   "execution_count": null,
   "metadata": {},
   "outputs": [],
   "source": [
    "\n",
    "# Pass the hovering function to the scatter plot\n",
    "# ==============================================================================\n",
    "scatter.on_hover(hover_fn)\n"
   ]
  },
  {
   "cell_type": "code",
   "execution_count": null,
   "metadata": {},
   "outputs": [],
   "source": [
    "\n",
    "# Pass molecular details to an HTML Box\n",
    "# ==============================================================================\n",
    "details = HTML()\n",
    "details\n"
   ]
  },
  {
   "cell_type": "code",
   "execution_count": null,
   "metadata": {},
   "outputs": [],
   "source": [
    "\n",
    "# Color hue and color scale for the markers\n",
    "# ==============================================================================\n",
    "scatter.marker.color      = df_raw['Number of Rings']\n",
    "scatter.marker.colorscale = 'rainbow'\n"
   ]
  },
  {
   "cell_type": "code",
   "execution_count": null,
   "metadata": {},
   "outputs": [],
   "source": [
    "\n",
    "# Initialize the image widget\n",
    "# ==============================================================================\n",
    "image_widget = Image(\n",
    "    value    = image_to_byte_array(df_raw['img'][0]),\n",
    "    layout=Layout(height='500px', width='500px')\n",
    ")\n",
    "\n",
    "image_widget"
   ]
  },
  {
   "cell_type": "code",
   "execution_count": null,
   "metadata": {},
   "outputs": [],
   "source": [
    "\n",
    "# Condense everything into a single HTML widget\n",
    "# ==============================================================================\n",
    "VBox([fig, HBox([image_widget, details])])\n"
   ]
  },
  {
   "cell_type": "markdown",
   "metadata": {
    "id": "b6Nr0HQy9t0n"
   },
   "source": [
    "<br>\n",
    "<br>\n",
    "<br>\n",
    "<br>\n",
    "<br>\n",
    "<br>\n",
    "<br>\n",
    "<br>\n",
    "<br>\n",
    "<br>\n",
    "\n",
    "<font size='6' style=\"color:#00A6D6\">  <b>5. Data Cleaning</b> </font>\n",
    "<a name=\"cleaning\"></a>\n",
    "\n",
    "[[ Back to Top ]](#content)\n",
    "\n",
    "<br>\n",
    "<br>\n",
    "<br>\n"
   ]
  },
  {
   "cell_type": "markdown",
   "metadata": {
    "id": "oyJIQG6N9t0n"
   },
   "source": [
    "\n",
    "# Multivariate Outlier Analysis: Anomaly Detection\n"
   ]
  },
  {
   "cell_type": "code",
   "execution_count": null,
   "metadata": {
    "colab": {
     "base_uri": "https://localhost:8080/",
     "height": 203
    },
    "executionInfo": {
     "elapsed": 162,
     "status": "ok",
     "timestamp": 1629688386786,
     "user": {
      "displayName": "",
      "photoUrl": "",
      "userId": ""
     },
     "user_tz": 300
    },
    "id": "sAqzw8909t0n",
    "outputId": "3dc3e43a-2771-4c78-e2f1-e92f0f690f33"
   },
   "outputs": [],
   "source": [
    "\n",
    "# Here we separate the independent variables for their analysis\n",
    "# ==============================================================================\n",
    "X = df[['Molecular Weight','Minimum Degree','Number of H-Bond Donors','Number of Rotatable Bonds',\n",
    "             'Polar Surface Area','Number of Rings']]\n",
    "X.head()\n"
   ]
  },
  {
   "cell_type": "code",
   "execution_count": null,
   "metadata": {
    "colab": {
     "base_uri": "https://localhost:8080/"
    },
    "executionInfo": {
     "elapsed": 2091,
     "status": "ok",
     "timestamp": 1629688388873,
     "user": {
      "displayName": "",
      "photoUrl": "",
      "userId": ""
     },
     "user_tz": 300
    },
    "id": "Urhq-RVF9t0o",
    "outputId": "7cb01b5d-a023-450c-900e-8099831f6a57"
   },
   "outputs": [],
   "source": [
    "\n",
    "# Definition and training of the IsolationForest Model for Anomaly detection\n",
    "# Pleasenote that this is a unsupervised model and hence thereis no objective way to train it\n",
    "# The following is a Naive set of parammeters\n",
    "# ==============================================================================\n",
    "modelo_isof = IsolationForest(\n",
    "                n_estimators  = 1000,\n",
    "                max_samples   ='auto',\n",
    "                contamination = 0.1,\n",
    "                random_state  = 0)\n",
    "\n",
    "modelo_isof.fit(X)\n"
   ]
  },
  {
   "cell_type": "code",
   "execution_count": null,
   "metadata": {
    "colab": {
     "base_uri": "https://localhost:8080/"
    },
    "executionInfo": {
     "elapsed": 764,
     "status": "ok",
     "timestamp": 1629688389636,
     "user": {
      "displayName": "",
      "photoUrl": "",
      "userId": ""
     },
     "user_tz": 300
    },
    "id": "gCUG7hvu9t0o",
    "outputId": "860122c4-775e-4b6e-ee92-cc0a0f35632e"
   },
   "outputs": [],
   "source": [
    "\n",
    "# Prediction from the Anomaly Detection Model\n",
    "# ==============================================================================\n",
    "X['anomaly'] = modelo_isof.predict(X)    # Anomaly prediction| 1:Ok | -1:Anomaly\n"
   ]
  },
  {
   "cell_type": "code",
   "execution_count": null,
   "metadata": {
    "colab": {
     "base_uri": "https://localhost:8080/",
     "height": 357
    },
    "executionInfo": {
     "elapsed": 198,
     "status": "ok",
     "timestamp": 1629688389833,
     "user": {
      "displayName": "",
      "photoUrl": "",
      "userId": ""
     },
     "user_tz": 300
    },
    "id": "l4fTIkBx9t0o",
    "outputId": "5866e7a0-4ac3-4562-8368-bd0ead7227c2"
   },
   "outputs": [],
   "source": [
    "\n",
    "# Number of anomalies predicted by the number of rings in the molecule\n",
    "# ==============================================================================\n",
    "anomaly       = X.loc[X['anomaly']==-1]\n",
    "anomaly_index = list(anomaly.index)\n",
    "anomaly.groupby('Number of Rings').describe()['Molecular Weight']\n",
    "\n"
   ]
  },
  {
   "cell_type": "code",
   "execution_count": null,
   "metadata": {
    "colab": {
     "base_uri": "https://localhost:8080/",
     "height": 265
    },
    "executionInfo": {
     "elapsed": 121,
     "status": "ok",
     "timestamp": 1629688389951,
     "user": {
      "displayName": "",
      "photoUrl": "",
      "userId": ""
     },
     "user_tz": 300
    },
    "id": "BOk9J5oz9t0o",
    "outputId": "c2fa6288-674d-42a7-83c3-84c948d32c5f"
   },
   "outputs": [],
   "source": [
    "\n",
    "# Dataset free of anomalies\n",
    "# ==============================================================================\n",
    "df_clean = df.loc[X['anomaly']==1]\n",
    "df_clean_index = list(df_clean.index)\n",
    "df_clean.groupby('Number of Rings').describe()['Molecular Weight']\n"
   ]
  },
  {
   "cell_type": "markdown",
   "metadata": {
    "id": "8LatrAk89t0o"
   },
   "source": [
    "<br>\n",
    "<br>\n",
    "<br>\n",
    "\n",
    "# Comparison of the raw and clean features\n",
    "\n"
   ]
  },
  {
   "cell_type": "code",
   "execution_count": null,
   "metadata": {
    "colab": {
     "base_uri": "https://localhost:8080/",
     "height": 1000
    },
    "executionInfo": {
     "elapsed": 2191,
     "status": "ok",
     "timestamp": 1629688392140,
     "user": {
      "displayName": "",
      "photoUrl": "",
      "userId": ""
     },
     "user_tz": 300
    },
    "id": "i3FxVLXh9t0o",
    "outputId": "3db34e14-d7d5-4f23-c23d-fb3e490c28c1"
   },
   "outputs": [],
   "source": [
    "\n",
    "# Anomaly-free and raw solubility\n",
    "# ==============================================================================\n",
    "sol_hist_clean = sns.displot(x='measured log solubility in mols per litre', hue='Number of Rings', palette='rainbow', height=7,\n",
    "           data=df_clean, multiple=\"stack\")\n",
    "\n",
    "sol_hist_clean.fig.set_figwidth(15)\n",
    "\n",
    "# ==============================================================================\n",
    "\n",
    "sol_hist = sns.displot(x='measured log solubility in mols per litre', hue='Number of Rings', palette='rainbow', height=7,\n",
    "           data=df, multiple=\"stack\")\n",
    "\n",
    "sol_hist.fig.set_figwidth(15)\n",
    "\n",
    "\n",
    "plt.xlim(-12, 2)\n",
    "plt.show()\n"
   ]
  },
  {
   "cell_type": "code",
   "execution_count": null,
   "metadata": {
    "colab": {
     "base_uri": "https://localhost:8080/",
     "height": 1000
    },
    "executionInfo": {
     "elapsed": 2324,
     "status": "ok",
     "timestamp": 1629688394463,
     "user": {
      "displayName": "",
      "photoUrl": "",
      "userId": ""
     },
     "user_tz": 300
    },
    "id": "kyersEAk9t0p",
    "outputId": "6ae6bbdc-f452-4ea1-ff25-113215fcba6e"
   },
   "outputs": [],
   "source": [
    "\n",
    "# Anomaly-free and raw molecular weight\n",
    "# ==============================================================================\n",
    "mw_hist_clean = sns.displot(x='Molecular Weight', hue='Number of Rings', palette='rainbow', height=7,\n",
    "           data=df_clean, multiple=\"stack\")\n",
    "\n",
    "mw_hist_clean.fig.set_figwidth(15)\n",
    "\n",
    "# ==============================================================================\n",
    "\n",
    "mw_hist = sns.displot(x='Molecular Weight', hue='Number of Rings', palette='rainbow', height=7,\n",
    "           data=df, multiple=\"stack\")\n",
    "\n",
    "mw_hist.fig.set_figwidth(15)\n",
    "plt.show()\n"
   ]
  },
  {
   "cell_type": "code",
   "execution_count": null,
   "metadata": {
    "colab": {
     "base_uri": "https://localhost:8080/",
     "height": 1000
    },
    "executionInfo": {
     "elapsed": 2214,
     "status": "ok",
     "timestamp": 1629688396675,
     "user": {
      "displayName": "",
      "photoUrl": "",
      "userId": ""
     },
     "user_tz": 300
    },
    "id": "3DGUMvRD9t0p",
    "outputId": "83d4e00b-b1c2-4d7d-9c60-c3992d530f80"
   },
   "outputs": [],
   "source": [
    "\n",
    "# Anomaly-free and raw molecular distribution of solubilities vs molecular weights\n",
    "# ==============================================================================\n",
    "jointplot_mw_clean = sns.jointplot(x='Molecular Weight', y='measured log solubility in mols per litre', hue='Number of Rings', \n",
    "           palette='rainbow', height=7,\n",
    "           data=df_clean)\n",
    "\n",
    "jointplot_mw_clean.fig.set_figwidth(15)\n",
    "\n",
    "# ==============================================================================\n",
    "\n",
    "jointplot_mw = sns.jointplot(x='Molecular Weight', y='measured log solubility in mols per litre', hue='Number of Rings', \n",
    "           palette='rainbow', height=7,\n",
    "           data=df)\n",
    "\n",
    "jointplot_mw.fig.set_figwidth(15)\n",
    "\n",
    "\n",
    "plt.ylim(-12,2)\n",
    "plt.show()\n"
   ]
  },
  {
   "cell_type": "code",
   "execution_count": null,
   "metadata": {
    "colab": {
     "base_uri": "https://localhost:8080/",
     "height": 1000
    },
    "executionInfo": {
     "elapsed": 1856,
     "status": "ok",
     "timestamp": 1629688398529,
     "user": {
      "displayName": "",
      "photoUrl": "",
      "userId": ""
     },
     "user_tz": 300
    },
    "id": "9EY_2xsR9t0p",
    "outputId": "6746e6fb-d62d-4654-a062-6428db00374c"
   },
   "outputs": [],
   "source": [
    "\n",
    "# Anomaly-free and raw molecular polar surface area\n",
    "# ==============================================================================\n",
    "sol_hist_clean = sns.displot(x='Polar Surface Area', hue='Number of Rings', palette='rainbow', height=7,\n",
    "           data=df_clean, multiple=\"stack\")\n",
    "\n",
    "sol_hist_clean.fig.set_figwidth(15)\n",
    "\n",
    "# ==============================================================================\n",
    "\n",
    "sol_hist = sns.displot(x='Polar Surface Area', hue='Number of Rings', palette='rainbow', height=7,\n",
    "           data=df, multiple=\"stack\")\n",
    "\n",
    "sol_hist.fig.set_figwidth(15)\n",
    "plt.show()\n"
   ]
  },
  {
   "cell_type": "code",
   "execution_count": null,
   "metadata": {
    "colab": {
     "base_uri": "https://localhost:8080/",
     "height": 497
    },
    "executionInfo": {
     "elapsed": 528,
     "status": "ok",
     "timestamp": 1629688399055,
     "user": {
      "displayName": "",
      "photoUrl": "",
      "userId": ""
     },
     "user_tz": 300
    },
    "id": "uD4vlT0m9t0p",
    "outputId": "4fad7458-0e4a-4245-ff9d-9c025322b968"
   },
   "outputs": [],
   "source": [
    "\n",
    "# Anomaly-free and raw violinn plots analysis\n",
    "# ==============================================================================\n",
    "plt.figure(figsize=(15,8))\n",
    "\n",
    "mw_boxplot_clean = sns.violinplot(x='Number of Rings', y='measured log solubility in mols per litre',  \n",
    "             palette='rainbow',\n",
    "             data=df_clean)\n",
    "\n",
    "# ==============================================================================\n",
    "\n",
    "mw_boxplot = sns.violinplot(x='Number of Rings', y='measured log solubility in mols per litre',  \n",
    "             palette='rainbow',\n",
    "             data=df)\n",
    "\n",
    "plt.show()\n"
   ]
  },
  {
   "cell_type": "code",
   "execution_count": null,
   "metadata": {
    "colab": {
     "base_uri": "https://localhost:8080/",
     "height": 465
    },
    "executionInfo": {
     "elapsed": 3265,
     "status": "ok",
     "timestamp": 1629688402316,
     "user": {
      "displayName": "",
      "photoUrl": "",
      "userId": ""
     },
     "user_tz": 300
    },
    "id": "RhVZ6naI9t0p",
    "outputId": "888f8596-116a-4893-d0fe-416e563c1398",
    "scrolled": false
   },
   "outputs": [],
   "source": [
    "\n",
    "# Anomaly-free and raw feature distributio analysis\n",
    "# ==============================================================================\n",
    "sns.set_context(\"paper\")\n",
    "pairplot_clean = sns.pairplot(df_clean,\n",
    "             x_vars=['Molecular Weight','Number of H-Bond Donors',\n",
    "                     'Number of Rotatable Bonds','Polar Surface Area'],\n",
    "             y_vars=['measured log solubility in mols per litre'],\n",
    "             hue='Number of Rings',\n",
    "             palette='rainbow')\n",
    "\n",
    "pairplot_clean.fig.set_figheight(5)\n",
    "pairplot_clean.fig.set_figwidth(15)\n",
    "\n",
    "# ==============================================================================\n",
    "\n",
    "pairplot = sns.pairplot(df,\n",
    "             x_vars=['Molecular Weight','Number of H-Bond Donors',\n",
    "                     'Number of Rotatable Bonds','Polar Surface Area'],\n",
    "             y_vars=['measured log solubility in mols per litre'],\n",
    "             hue='Number of Rings',\n",
    "             palette='rainbow')\n",
    "\n",
    "pairplot.fig.set_figheight(5)\n",
    "pairplot.fig.set_figwidth(15)\n",
    "plt.show()\n"
   ]
  },
  {
   "cell_type": "markdown",
   "metadata": {
    "id": "9r-l0enI9t0q"
   },
   "source": [
    "<br>\n",
    "<br>\n",
    "<br>\n",
    "<br>\n",
    "<br>\n",
    "<br>\n",
    "<br>\n",
    "<br>\n",
    "<br>\n",
    "<br>\n",
    "\n",
    "<font size='6' style=\"color:#00A6D6\">  <b>6. Feature Selection</b> </font>\n",
    "<a name=\"features\"></a>\n",
    "\n",
    "[[ Back to Top ]](#content)\n",
    "\n",
    "<br>\n",
    "<br>\n",
    "<br>\n"
   ]
  },
  {
   "cell_type": "markdown",
   "metadata": {
    "id": "3GJEEyLc9t0q"
   },
   "source": [
    "\n",
    "# Feauture Importance for the Original Features\n"
   ]
  },
  {
   "cell_type": "code",
   "execution_count": null,
   "metadata": {
    "colab": {
     "base_uri": "https://localhost:8080/"
    },
    "executionInfo": {
     "elapsed": 6,
     "status": "ok",
     "timestamp": 1629688402316,
     "user": {
      "displayName": "",
      "photoUrl": "",
      "userId": ""
     },
     "user_tz": 300
    },
    "id": "harfWhpY9t0q",
    "outputId": "d8f4e779-db9e-4b0f-c9f3-1e5d2601c899"
   },
   "outputs": [],
   "source": [
    "\n",
    "# Here we pick the feautures after data cleaning\n",
    "# ==============================================================================\n",
    "X_clean = X.loc[X['anomaly']==1]\n",
    "X_clean.drop(columns='anomaly', inplace=True);\n"
   ]
  },
  {
   "cell_type": "code",
   "execution_count": null,
   "metadata": {
    "executionInfo": {
     "elapsed": 5,
     "status": "ok",
     "timestamp": 1629688402317,
     "user": {
      "displayName": "",
      "photoUrl": "",
      "userId": ""
     },
     "user_tz": 300
    },
    "id": "nXPIFBXK9t0q"
   },
   "outputs": [],
   "source": [
    "\n",
    "# Anomaly-free target variable\n",
    "# ==============================================================================\n",
    "y_clean = df_clean['measured log solubility in mols per litre']\n"
   ]
  },
  {
   "cell_type": "code",
   "execution_count": null,
   "metadata": {
    "executionInfo": {
     "elapsed": 6,
     "status": "ok",
     "timestamp": 1629688402318,
     "user": {
      "displayName": "",
      "photoUrl": "",
      "userId": ""
     },
     "user_tz": 300
    },
    "id": "MRBBTHny9t0q"
   },
   "outputs": [],
   "source": [
    "\n",
    "# Train-Test split for the regressor model\n",
    "# ==============================================================================\n",
    "X_train, X_test, y_train, y_test = train_test_split(X_clean, y_clean, test_size=0.2, random_state=0)\n"
   ]
  },
  {
   "cell_type": "code",
   "execution_count": null,
   "metadata": {
    "executionInfo": {
     "elapsed": 5,
     "status": "ok",
     "timestamp": 1629688402318,
     "user": {
      "displayName": "",
      "photoUrl": "",
      "userId": ""
     },
     "user_tz": 300
    },
    "id": "pQ7N-7WT9t0q"
   },
   "outputs": [],
   "source": [
    "\n",
    "# Pre-processing of the features\n",
    "# ==============================================================================\n",
    "sc = StandardScaler()\n",
    "X_train = sc.fit_transform(X_train)\n",
    "X_test = sc.transform(X_test)\n"
   ]
  },
  {
   "cell_type": "code",
   "execution_count": null,
   "metadata": {
    "executionInfo": {
     "elapsed": 2715,
     "status": "ok",
     "timestamp": 1629688405028,
     "user": {
      "displayName": "",
      "photoUrl": "",
      "userId": ""
     },
     "user_tz": 300
    },
    "id": "nA6ZnBKY9t0q"
   },
   "outputs": [],
   "source": [
    "\n",
    "# Setup and training of a simple regressor model\n",
    "# ==============================================================================\n",
    "regressor = RandomForestRegressor(n_estimators=1000, random_state=0)\n",
    "regressor.fit(X_train, y_train)\n",
    "y_pred = regressor.predict(X_test)\n"
   ]
  },
  {
   "cell_type": "code",
   "execution_count": null,
   "metadata": {
    "colab": {
     "base_uri": "https://localhost:8080/"
    },
    "executionInfo": {
     "elapsed": 163,
     "status": "ok",
     "timestamp": 1629688405189,
     "user": {
      "displayName": "",
      "photoUrl": "",
      "userId": ""
     },
     "user_tz": 300
    },
    "id": "JlqchB139t0r",
    "outputId": "bc1b6c1a-6a6c-44ef-86b2-90b13c5bf7e7"
   },
   "outputs": [],
   "source": [
    "\n",
    "# Performance metrics for the regressor model\n",
    "# ==============================================================================\n",
    "print('Mean Absolute Error:', metrics.mean_absolute_error(y_test, y_pred))\n",
    "print('Mean Squared Error:', metrics.mean_squared_error(y_test, y_pred))\n",
    "print('Root Mean Squared Error:', np.sqrt(metrics.mean_squared_error(y_test, y_pred)))\n"
   ]
  },
  {
   "cell_type": "code",
   "execution_count": null,
   "metadata": {
    "executionInfo": {
     "elapsed": 102810,
     "status": "ok",
     "timestamp": 1629688507997,
     "user": {
      "displayName": "",
      "photoUrl": "",
      "userId": ""
     },
     "user_tz": 300
    },
    "id": "1bSk0Itd9t0r"
   },
   "outputs": [],
   "source": [
    "\n",
    "# Feature ranking using Permutation Feature Importance\n",
    "# ==============================================================================\n",
    "feature_ranking = permutation_importance(regressor, X_train, y_train,\n",
    "                  n_repeats=100, random_state=0)\n"
   ]
  },
  {
   "cell_type": "code",
   "execution_count": null,
   "metadata": {
    "executionInfo": {
     "elapsed": 9,
     "status": "ok",
     "timestamp": 1629688507999,
     "user": {
      "displayName": "",
      "photoUrl": "",
      "userId": ""
     },
     "user_tz": 300
    },
    "id": "dGms-bd59t0r"
   },
   "outputs": [],
   "source": [
    "\n",
    "# Ordering the features by their relevance\n",
    "# ==============================================================================\n",
    "perm_sorted_idx = feature_ranking.importances_mean.argsort()\n"
   ]
  },
  {
   "cell_type": "code",
   "execution_count": null,
   "metadata": {
    "colab": {
     "base_uri": "https://localhost:8080/",
     "height": 483
    },
    "executionInfo": {
     "elapsed": 342,
     "status": "ok",
     "timestamp": 1629688508333,
     "user": {
      "displayName": "",
      "photoUrl": "",
      "userId": ""
     },
     "user_tz": 300
    },
    "id": "GzVv26MR9t0r",
    "outputId": "9c0b6a57-22d5-4f45-bdf1-f994dc53f88a"
   },
   "outputs": [],
   "source": [
    "\n",
    "# Feature ranking using the simple Random Forest Regressor\n",
    "# ==============================================================================\n",
    "plt.figure(figsize=(15,8))\n",
    "plt.barh(X_clean.columns, regressor.feature_importances_)\n",
    "plt.show()\n"
   ]
  },
  {
   "cell_type": "code",
   "execution_count": null,
   "metadata": {
    "colab": {
     "base_uri": "https://localhost:8080/",
     "height": 483
    },
    "executionInfo": {
     "elapsed": 370,
     "status": "ok",
     "timestamp": 1629688508701,
     "user": {
      "displayName": "",
      "photoUrl": "",
      "userId": ""
     },
     "user_tz": 300
    },
    "id": "ISA4-sIA9t0r",
    "outputId": "a184fdf4-a4a6-4e39-cff9-1cca48d99d88"
   },
   "outputs": [],
   "source": [
    "\n",
    "# Feature ranking using the Permutation Feature Importance \n",
    "# ==============================================================================\n",
    "plt.figure(figsize=(15,8))\n",
    "plt.boxplot(feature_ranking.importances[perm_sorted_idx].T, vert=False,\n",
    "            labels=X_clean.columns[perm_sorted_idx])\n",
    "plt.show()\n"
   ]
  },
  {
   "cell_type": "markdown",
   "metadata": {
    "id": "00-i1a--9t0r"
   },
   "source": [
    "<br>\n",
    "<br>\n",
    "<br>\n",
    "\n",
    "# Exercise: Creating New Features\n"
   ]
  },
  {
   "cell_type": "code",
   "execution_count": null,
   "metadata": {
    "colab": {
     "base_uri": "https://localhost:8080/",
     "height": 438
    },
    "executionInfo": {
     "elapsed": 162,
     "status": "ok",
     "timestamp": 1629688508861,
     "user": {
      "displayName": "",
      "photoUrl": "",
      "userId": ""
     },
     "user_tz": 300
    },
    "id": "Nmzx4eoU9t0r",
    "outputId": "eb86a7bd-836e-4e59-9524-1648e026ef71"
   },
   "outputs": [],
   "source": [
    "\n",
    "# Adding molecular objects to the clean dataframe \n",
    "# ==============================================================================\n",
    "df_clean['mol'] = df_clean['smiles'].apply(rdkit.Chem.MolFromSmiles)\n",
    "df_clean.head()\n"
   ]
  },
  {
   "cell_type": "code",
   "execution_count": null,
   "metadata": {
    "colab": {
     "base_uri": "https://localhost:8080/",
     "height": 539
    },
    "executionInfo": {
     "elapsed": 876,
     "status": "ok",
     "timestamp": 1629688509734,
     "user": {
      "displayName": "",
      "photoUrl": "",
      "userId": ""
     },
     "user_tz": 300
    },
    "id": "RRtTy-929t0s",
    "outputId": "ddff5a5f-df75-40ed-9df0-3a9e1fd03055"
   },
   "outputs": [],
   "source": [
    "\n",
    "# Adding the nummber of valence electrons\n",
    "# ==============================================================================\n",
    "df_clean['new_feature_1'] = df_clean['mol'].apply(rdkit.Chem.Descriptors.AAA)\n",
    "df_clean.head()\n"
   ]
  },
  {
   "cell_type": "code",
   "execution_count": null,
   "metadata": {
    "executionInfo": {
     "elapsed": 4,
     "status": "ok",
     "timestamp": 1629688509735,
     "user": {
      "displayName": "",
      "photoUrl": "",
      "userId": ""
     },
     "user_tz": 300
    },
    "id": "uOvTG2HF9t0s"
   },
   "outputs": [],
   "source": [
    "\n",
    "# Function to calculate the number of aromatic atoms in a molecule\n",
    "# ==============================================================================\n",
    "def number_Aromatic_Atoms(mol):\n",
    "    return sum([1 for _ in mol.GetAromaticAtoms()])\n"
   ]
  },
  {
   "cell_type": "code",
   "execution_count": null,
   "metadata": {
    "colab": {
     "base_uri": "https://localhost:8080/",
     "height": 539
    },
    "executionInfo": {
     "elapsed": 854,
     "status": "ok",
     "timestamp": 1629688510743,
     "user": {
      "displayName": "",
      "photoUrl": "",
      "userId": ""
     },
     "user_tz": 300
    },
    "id": "3Q4Wuv359t0s",
    "outputId": "e201caf7-fabc-4451-b174-989785156b34"
   },
   "outputs": [],
   "source": [
    "\n",
    "# Adding the number of aromatic atoms for each molecule\n",
    "# ==============================================================================\n",
    "df_clean['Number of Aromatic Atoms'] = df_clean['mol'].apply(number_Aromatic_Atoms)\n",
    "df_clean.head()\n"
   ]
  },
  {
   "cell_type": "code",
   "execution_count": null,
   "metadata": {
    "executionInfo": {
     "elapsed": 4,
     "status": "ok",
     "timestamp": 1629688510744,
     "user": {
      "displayName": "",
      "photoUrl": "",
      "userId": ""
     },
     "user_tz": 300
    },
    "id": "FStpV10E9t0s"
   },
   "outputs": [],
   "source": [
    "\n",
    "# Function to calculate the number of conjugated bonds that are nt part of a ring\n",
    "# ==============================================================================\n",
    "def number_Conjugated_bonds(mol):\n",
    "        return sum([1 for bond in mol.GetBonds() if (bond.GetIsConjugated() and not bond.IsInRing())])\n"
   ]
  },
  {
   "cell_type": "code",
   "execution_count": null,
   "metadata": {
    "colab": {
     "base_uri": "https://localhost:8080/",
     "height": 938
    },
    "executionInfo": {
     "elapsed": 979,
     "status": "ok",
     "timestamp": 1629688511719,
     "user": {
      "displayName": "",
      "photoUrl": "",
      "userId": ""
     },
     "user_tz": 300
    },
    "id": "eIyA_wzU9t0s",
    "outputId": "d20f61dc-702e-498f-fd8a-5b690d73cc66"
   },
   "outputs": [],
   "source": [
    "\n",
    "# Adding the number of aromatic atoms for each molecule\n",
    "# ==============================================================================\n",
    "df_clean['Number of Conjugated Bonds'] = df_clean['mol'].apply(number_Conjugated_bonds)\n",
    "df_clean\n"
   ]
  },
  {
   "cell_type": "markdown",
   "metadata": {
    "id": "lOxioCtX9t0s"
   },
   "source": [
    "<br>\n",
    "\n",
    "## From here on we fit a new model with the new features"
   ]
  },
  {
   "cell_type": "code",
   "execution_count": null,
   "metadata": {
    "colab": {
     "base_uri": "https://localhost:8080/",
     "height": 203
    },
    "executionInfo": {
     "elapsed": 5,
     "status": "ok",
     "timestamp": 1629688511719,
     "user": {
      "displayName": "",
      "photoUrl": "",
      "userId": ""
     },
     "user_tz": 300
    },
    "id": "eBqNWo-s9t0s",
    "outputId": "c906906a-2d87-43f1-b1f6-1151e7503db4"
   },
   "outputs": [],
   "source": [
    "\n",
    "# Selecting the set of features\n",
    "# ==============================================================================\n",
    "features = df_clean[['Molecular Weight','Polar Surface Area','Number of Rings','Number of Valence Electrons','Number of Aromatic Atoms','Number of Conjugated Bonds']]\n",
    "features.head()\n"
   ]
  },
  {
   "cell_type": "code",
   "execution_count": null,
   "metadata": {
    "executionInfo": {
     "elapsed": 5,
     "status": "ok",
     "timestamp": 1629688511720,
     "user": {
      "displayName": "",
      "photoUrl": "",
      "userId": ""
     },
     "user_tz": 300
    },
    "id": "Rn7qS_9G9t0s"
   },
   "outputs": [],
   "source": [
    "\n",
    "# Define the target variable\n",
    "# ==============================================================================\n",
    "target = df_clean['measured log solubility in mols per litre']\n"
   ]
  },
  {
   "cell_type": "code",
   "execution_count": null,
   "metadata": {
    "executionInfo": {
     "elapsed": 5,
     "status": "ok",
     "timestamp": 1629688511720,
     "user": {
      "displayName": "",
      "photoUrl": "",
      "userId": ""
     },
     "user_tz": 300
    },
    "id": "HTsWGQ9P9t0s"
   },
   "outputs": [],
   "source": [
    "\n",
    "# Train-Test split for the new model\n",
    "# ==============================================================================\n",
    "features_train, features_test, target_train, target_test = train_test_split(features, target, \n",
    "                                                           test_size=0.2, random_state=0)\n"
   ]
  },
  {
   "cell_type": "code",
   "execution_count": null,
   "metadata": {
    "executionInfo": {
     "elapsed": 5,
     "status": "ok",
     "timestamp": 1629688511720,
     "user": {
      "displayName": "",
      "photoUrl": "",
      "userId": ""
     },
     "user_tz": 300
    },
    "id": "MWVMEmCj9t0t"
   },
   "outputs": [],
   "source": [
    "\n",
    "# Pre-processing of the new features\n",
    "# ==============================================================================\n",
    "features_train = sc.fit_transform(features_train)\n",
    "features_test = sc.transform(features_test)\n"
   ]
  },
  {
   "cell_type": "code",
   "execution_count": null,
   "metadata": {
    "executionInfo": {
     "elapsed": 3146,
     "status": "ok",
     "timestamp": 1629688514862,
     "user": {
      "displayName": "",
      "photoUrl": "",
      "userId": ""
     },
     "user_tz": 300
    },
    "id": "PpxHewUI9t0t"
   },
   "outputs": [],
   "source": [
    "\n",
    "# Training and predictions of the new model\n",
    "# ==============================================================================\n",
    "new_regressor = RandomForestRegressor(n_estimators=1000, random_state=0)\n",
    "new_regressor.fit(features_train, target_train)\n",
    "target_pred = new_regressor.predict(features_test)\n"
   ]
  },
  {
   "cell_type": "code",
   "execution_count": null,
   "metadata": {
    "colab": {
     "base_uri": "https://localhost:8080/"
    },
    "executionInfo": {
     "elapsed": 7,
     "status": "ok",
     "timestamp": 1629688514862,
     "user": {
      "displayName": "",
      "photoUrl": "",
      "userId": ""
     },
     "user_tz": 300
    },
    "id": "ylnCA7B79t0t",
    "outputId": "ad27baf2-ede4-4ade-fafd-04ffca5e40e7"
   },
   "outputs": [],
   "source": [
    "\n",
    "# Performance of the new model\n",
    "# ==============================================================================\n",
    "print('Mean Absolute Error:', metrics.mean_absolute_error(target_test, target_pred))\n",
    "print('Mean Squared Error:', metrics.mean_squared_error(target_test, target_pred))\n",
    "print('Root Mean Squared Error:', np.sqrt(metrics.mean_squared_error(target_test, target_pred)))\n"
   ]
  },
  {
   "cell_type": "code",
   "execution_count": null,
   "metadata": {
    "executionInfo": {
     "elapsed": 98507,
     "status": "ok",
     "timestamp": 1629688613367,
     "user": {
      "displayName": "",
      "photoUrl": "",
      "userId": ""
     },
     "user_tz": 300
    },
    "id": "_0qVXueb9t0t"
   },
   "outputs": [],
   "source": [
    "\n",
    "# Ranking of the new model using PFI\n",
    "# ==============================================================================\n",
    "new_feature_ranking = permutation_importance(new_regressor, features_train, target_train,\n",
    "                  n_repeats=100, random_state=0)\n"
   ]
  },
  {
   "cell_type": "code",
   "execution_count": null,
   "metadata": {
    "executionInfo": {
     "elapsed": 12,
     "status": "ok",
     "timestamp": 1629688613370,
     "user": {
      "displayName": "",
      "photoUrl": "",
      "userId": ""
     },
     "user_tz": 300
    },
    "id": "DmkFos8D9t0t"
   },
   "outputs": [],
   "source": [
    "\n",
    "# Sorting the PFI results\n",
    "# ==============================================================================\n",
    "new_perm_sorted_idx = new_feature_ranking.importances_mean.argsort()\n"
   ]
  },
  {
   "cell_type": "code",
   "execution_count": null,
   "metadata": {
    "colab": {
     "base_uri": "https://localhost:8080/",
     "height": 483
    },
    "executionInfo": {
     "elapsed": 337,
     "status": "ok",
     "timestamp": 1629688613696,
     "user": {
      "displayName": "",
      "photoUrl": "",
      "userId": ""
     },
     "user_tz": 300
    },
    "id": "iUEmJFmX9t0v",
    "outputId": "909f60a6-a3a2-4c89-8c64-fa4600e29227"
   },
   "outputs": [],
   "source": [
    "\n",
    "# Ranking of the regressor model\n",
    "# ==============================================================================\n",
    "plt.figure(figsize=(15,8))\n",
    "plt.barh(features.columns, new_regressor.feature_importances_)\n",
    "plt.show()\n"
   ]
  },
  {
   "cell_type": "code",
   "execution_count": null,
   "metadata": {
    "colab": {
     "base_uri": "https://localhost:8080/",
     "height": 483
    },
    "executionInfo": {
     "elapsed": 353,
     "status": "ok",
     "timestamp": 1629688614046,
     "user": {
      "displayName": "",
      "photoUrl": "",
      "userId": ""
     },
     "user_tz": 300
    },
    "id": "YcHisYbh9t0v",
    "outputId": "ac2841e3-f51b-4377-b7f5-40c967238a76"
   },
   "outputs": [],
   "source": [
    "\n",
    "# New Model PFI ranking\n",
    "# ==============================================================================\n",
    "plt.figure(figsize=(15,8))\n",
    "plt.boxplot(new_feature_ranking.importances[new_perm_sorted_idx].T, vert=False,\n",
    "            labels=features.columns[perm_sorted_idx])\n",
    "plt.show()\n"
   ]
  },
  {
   "cell_type": "markdown",
   "metadata": {
    "id": "WoIbi6-H9t0v"
   },
   "source": [
    "<br>\n",
    "<br>\n",
    "<br>\n",
    "\n",
    "# Regaring Mulcollinearity"
   ]
  },
  {
   "cell_type": "code",
   "execution_count": null,
   "metadata": {
    "colab": {
     "base_uri": "https://localhost:8080/",
     "height": 586
    },
    "executionInfo": {
     "elapsed": 471,
     "status": "ok",
     "timestamp": 1629688614515,
     "user": {
      "displayName": "",
      "photoUrl": "",
      "userId": ""
     },
     "user_tz": 300
    },
    "id": "C_oyCBvi9t0v",
    "outputId": "44cabd74-6685-4a7a-cd8a-0b9ee6397298"
   },
   "outputs": [],
   "source": [
    "\n",
    "\n",
    "# Correlation and collinearity analysis between the new features\n",
    "# ==============================================================================\n",
    "\n",
    "fig, (ax1, ax2) = plt.subplots(1, 2, figsize=(12, 8))\n",
    "\n",
    "corr = spearmanr(features).correlation\n",
    "corr_linkage = hierarchy.ward(corr)\n",
    "\n",
    "dendro = hierarchy.dendrogram(\n",
    "    corr_linkage, labels=features.columns, ax=ax1, leaf_rotation=90)\n",
    "\n",
    "dendro_idx = np.arange(0, len(dendro['ivl']))\n",
    "\n",
    "ax2.imshow(corr[dendro['leaves'], :][:, dendro['leaves']], cmap='jet_r', )\n",
    "ax2.set_xticks(dendro_idx)\n",
    "ax2.set_yticks(dendro_idx)\n",
    "ax2.set_xticklabels(dendro['ivl'], rotation='vertical')\n",
    "ax2.set_yticklabels(dendro['ivl'])\n",
    "fig.tight_layout()\n",
    "plt.show()\n"
   ]
  },
  {
   "cell_type": "code",
   "execution_count": null,
   "metadata": {
    "colab": {
     "base_uri": "https://localhost:8080/",
     "height": 312
    },
    "executionInfo": {
     "elapsed": 13,
     "status": "ok",
     "timestamp": 1629688614519,
     "user": {
      "displayName": "",
      "photoUrl": "",
      "userId": ""
     },
     "user_tz": 300
    },
    "id": "O8mDt9FZ9t0v",
    "outputId": "cd0468ee-ab09-434c-e668-dea5f9f32bc9"
   },
   "outputs": [],
   "source": [
    "\n",
    "# Definition of the final dataframe\n",
    "# ==============================================================================\n",
    "final_df = df_clean[['Molecular Weight','Polar Surface Area','Number of Rings','Number of Rings',\n",
    "                     'Number of Valence Electrons','Number of Aromatic Atoms','Number of Conjugated Bonds',\n",
    "                     'measured log solubility in mols per litre']]\n",
    "final_df.describe()\n"
   ]
  },
  {
   "cell_type": "raw",
   "metadata": {
    "id": "pSOk5o5a9t0v"
   },
   "source": [
    "\n",
    "# Finally we save the final dataframe\n",
    "# ==============================================================================\n",
    "final_df.to_csv('data/processed/delaney-miguel-processed.csv')\n"
   ]
  },
  {
   "cell_type": "markdown",
   "metadata": {
    "id": "65eoIWPX9t0v"
   },
   "source": [
    "<br>\n",
    "<br>\n",
    "<br>\n",
    "<br>\n",
    "<br>\n",
    "<br>\n",
    "<br>\n",
    "<br>\n",
    "<br>\n",
    "<br>\n",
    "\n",
    "<font size='6' style=\"color:#00A6D6\">  <b>7. Results & Discussion</b> </font>\n",
    "<a name=\"results\"></a>\n",
    "\n",
    "[[ Back to Top ]](#content)\n",
    "\n",
    "<br>\n",
    "<br>\n",
    "<br>\n"
   ]
  },
  {
   "cell_type": "markdown",
   "metadata": {
    "id": "2CQCY32p9t0v"
   },
   "source": [
    "<font size='4'>\n",
    "\n",
    "The anomalous datapoints remove from the dataset were indeed molecules ith extreme values across one or many dimenions of the original dataset. The most obvous example is the identification as anomalies of the two molecules with a molecularweight ~800 and containing 8 rings. Such data points are indeed higly anomalous would ony induce errors in the training of any ML model. The reader is encourage to explore other points detected as anomalous and see how they present extreme values across different dimenions. \n",
    "\n",
    "After running a simple Isolation Forest model for feature selection we remove 3 out 6 of the origianl features adding 3 new ones. The new dataset performs better, as measure by MAE, compare with  the original dataset.\n",
    "\n",
    "Finally, some collinearity was found in the final dataset, however, no further feature elimination was carried out. We will explore other feature selection stratgies once we build more ML models.\n",
    "\n",
    "\n",
    "</font> "
   ]
  },
  {
   "cell_type": "markdown",
   "metadata": {
    "id": "o2dLFsxj9t0w"
   },
   "source": [
    "\n",
    "\n",
    "\n",
    "<br>\n",
    "<br>\n",
    "<br>\n",
    "<br>\n",
    "<br>\n",
    "<br>\n",
    "<br>\n",
    "<br>\n",
    "<br>\n",
    "<br>\n",
    "\n",
    "<font size='6' style=\"color:#00A6D6\">  <b>8. Perspectives</b> </font>\n",
    "<a name=\"perspectives\"></a>\n",
    "\n",
    "[[ Back to Top ]](#content)\n",
    "\n",
    "<br>\n",
    "<br>\n",
    "<br>\n",
    "\n"
   ]
  },
  {
   "cell_type": "markdown",
   "metadata": {
    "id": "VbMLljcC9t0w"
   },
   "source": [
    "    i.   The SMILES for all this work were not sanitized. Add this feature for future work.\n",
    "    ii.  The Isolation Forest Model used standar parameters. Optimize this model. \n",
    "    iii. Explore other molecular descriptors.\n",
    "    iv.  Expand the analysis for topological representations and descriptors. "
   ]
  },
  {
   "cell_type": "markdown",
   "metadata": {
    "id": "JMVGZSEG9t0w"
   },
   "source": [
    "<br>\n",
    "<br>\n",
    "<br>\n",
    "<br>\n",
    "<br>\n",
    "<br>\n",
    "<font size='6' style=\"color:#00A6D6\">  <b>9. References.</b> </font>\n",
    "<a name=\"references\"></a>\n",
    "\n",
    "[[ Back to Top ]](#Table-of-contents)"
   ]
  },
  {
   "cell_type": "markdown",
   "metadata": {
    "id": "y7PWTOVD9t0w"
   },
   "source": [
    "[1] <a href=https://blog.paperspace.com/anomaly-detection-isolation-forest/>Anomaly Detection Using Isolation Forest in Python</a>\n",
    "\n",
    "[2] <a href=https://christophm.github.io/interpretable-ml-book/feature-importance.html>Permutation Feature Importance</a>\n",
    "\n",
    "[3] <a href=http://web.vu.lt/mif/a.buteikis/wp-content/uploads/PE_Book/4-5-Multiple-collinearity.html>Multicollinearity</a>"
   ]
  }
 ],
 "metadata": {
  "colab": {
   "name": "Copia de 1.0-MA-Data-Exploration-Feature-Selection.ipynb",
   "provenance": [
    {
     "file_id": "https://github.com/LilianaArguello/RIIA_test/blob/main/Notebooks/1.0-MA-Data-Exploration-Feature-Selection.ipynb",
     "timestamp": 1629689809789
    }
   ]
  },
  "kernelspec": {
   "display_name": "Python 3",
   "language": "python",
   "name": "python3"
  },
  "language_info": {
   "codemirror_mode": {
    "name": "ipython",
    "version": 3
   },
   "file_extension": ".py",
   "mimetype": "text/x-python",
   "name": "python",
   "nbconvert_exporter": "python",
   "pygments_lexer": "ipython3",
   "version": "3.7.3"
  }
 },
 "nbformat": 4,
 "nbformat_minor": 1
}
