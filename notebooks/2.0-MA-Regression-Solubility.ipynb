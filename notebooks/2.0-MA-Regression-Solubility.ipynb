{
 "cells": [
  {
   "cell_type": "markdown",
   "metadata": {
    "id": "Y2FgL4VcAXj-"
   },
   "source": [
    "\n",
    "<br>\n",
    "<center>\n",
    "<font size='7' style=\"color:#0D47A1\">  <b>Regression Models For <br><br> Solubility Prediction</b> </font>\n",
    "</center>\n",
    "\n",
    "<hr style= \"height:3px;\">\n",
    "<br>"
   ]
  },
  {
   "cell_type": "markdown",
   "metadata": {
    "id": "9IyiaT5nAXj_"
   },
   "source": [
    "\n",
    "<hr style= \"height:1px;\">\n",
    "<font size='6' style=\"color:#000000\">  <b>Content</b> </font>\n",
    "<a name=\"content\"></a>\n",
    "<br>\n",
    "<br>\n",
    "\n",
    "1. [Abstract](#abstract) \n",
    "<br>\n",
    "\n",
    "2. [Setup](#setup)\n",
    "<br>\n",
    "\n",
    "3. [Loading Data](#loading)\n",
    "<br>\n",
    "\n",
    "4. [Explore the Data](#exploration)\n",
    "<br>\n",
    "\n",
    "5. [Simple Models](#cleaning)\n",
    "<br>\n",
    "\n",
    "6. [Cross Validation](#features)\n",
    "<br>\n",
    "\n",
    "7. [Results & Discussion](#results)\n",
    "<br>\n",
    "\n",
    "8. [Perspectives](#perspectives)\n",
    "<br>\n",
    "\n",
    "9. [References](#references)\n",
    "<br>\n",
    "\n",
    "<hr style= \"height:1px;\">\n",
    "\n",
    "<br>\n",
    "<br>\n",
    "<br>"
   ]
  },
  {
   "cell_type": "markdown",
   "metadata": {
    "id": "z2Aj0nhbAXkA"
   },
   "source": [
    "<font size='6' style=\"color:#00A6D6\">  <b>1. Abstract</b> </font>\n",
    "<a name=\"setup\"></a>\n",
    "\n",
    "[[ Back to Top ]](#content)\n",
    "<br>\n",
    "<br>\n",
    "\n",
    "<font size='4'>\n",
    "\n",
    "In this Notebook we studied 3 different strategies for the training of various machine learning models. After comparing and choosing the best training strategy we proceed to evaluate the models with an additional cross validation step. The model performance are reported in with two generic metrics and choose or definition for a better metric for the problem at hand is a work in progress. \n",
    "\n",
    "</font> "
   ]
  },
  {
   "cell_type": "markdown",
   "metadata": {
    "id": "ItMggD_9AXkB"
   },
   "source": [
    "<br>\n",
    "<br>\n",
    "<font size='5' style=\"color:#4CAF50\">  <b>Purpose</b></font>\n",
    "\n",
    "<br>\n",
    "<font size='4'>\n",
    "    \n",
    "Obtain the best training strategy for generic ML Model.\n",
    "\n",
    "</font> \n",
    "\n",
    "\n",
    "<br>\n",
    "<br>\n"
   ]
  },
  {
   "cell_type": "markdown",
   "metadata": {
    "id": "AxUrAJaTAXkB"
   },
   "source": [
    "<br>\n",
    "<br>\n",
    "<font size='5' style=\"color:#4CAF50\">  <b>Goals</b></font>\n",
    "\n",
    "\n",
    " - Find the best training strategy.\n",
    " - Define custome metrics for evaluation.\n",
    " - Compare several ML models.\n",
    " - Obtain statistics of model training with cross validation.\n",
    " "
   ]
  },
  {
   "cell_type": "markdown",
   "metadata": {
    "id": "NNkrVBmLAXkC"
   },
   "source": [
    "<br>\n",
    "<br>\n",
    "<font size='5' style=\"color:#4CAF50\">  <b>Methodology/Plan</b></font>\n",
    "\n",
    "1. Strategy 1.\n",
    " - No feature or targe transformation.\n",
    "2. Strategy 2.\n",
    " - Feature transformation.\n",
    " - Target transformation.\n",
    "3. Strategy 3.\n",
    " - Feature transformation.\n",
    " - Target transformation.\n",
    "4. Benchmark.\n",
    " - Include cross validation in the training process.\n",
    " \n"
   ]
  },
  {
   "cell_type": "markdown",
   "metadata": {
    "id": "dZcrc9PwAXkC"
   },
   "source": [
    "\n",
    "<br>\n",
    "<br>\n",
    "<br>\n",
    "<br>\n",
    "<br>\n",
    "<br>\n",
    "<br>\n",
    "\n",
    "<font size='6' style=\"color:#00A6D6\">  <b>2. Setup</b> </font>\n",
    "<a name=\"setup\"></a>\n",
    "\n",
    "[[ Back to Top ]](#content)\n",
    "<br>\n",
    "<br>\n",
    "\n",
    "The following imports are divided by sections according to their role in the notebook. \n",
    "\n"
   ]
  },
  {
   "cell_type": "code",
   "execution_count": null,
   "metadata": {
    "colab": {
     "base_uri": "https://localhost:8080/"
    },
    "executionInfo": {
     "elapsed": 2818,
     "status": "ok",
     "timestamp": 1629689261983,
     "user": {
      "displayName": "",
      "photoUrl": "",
      "userId": ""
     },
     "user_tz": 300
    },
    "id": "MgP_V2vxAXkD",
    "outputId": "afdbc678-fd00-49d8-f77c-7329b5f9802a"
   },
   "outputs": [],
   "source": [
    "\n",
    "# Basic Python Imports\n",
    "# ==============================================================================\n",
    "import json \n",
    "import string\n",
    "\n",
    "\n",
    "\n",
    "# Data Science \n",
    "# ==============================================================================\n",
    "import pandas as pd\n",
    "import numpy as np\n",
    "from scipy.stats import gmean\n",
    "from scipy.stats import gstd\n",
    "\n",
    "\n",
    "# Sklearn Basic imports\n",
    "# ==============================================================================\n",
    "import joblib\n",
    "from sklearn import metrics\n",
    "from sklearn import preprocessing\n",
    "from sklearn.pipeline import Pipeline\n",
    "from sklearn.preprocessing import StandardScaler\n",
    "from sklearn.model_selection import train_test_split\n",
    "\n",
    "\n",
    "\n",
    "# Sklearn anomaly detection and feature selection\n",
    "# ==============================================================================\n",
    "from sklearn.ensemble import IsolationForest\n",
    "from sklearn.inspection import permutation_importance\n",
    "\n",
    "\n",
    "\n",
    "# Rdkit import for molecular features\n",
    "# ==============================================================================\n",
    "!pip install rdkit-pypi\n",
    "import rdkit\n",
    "import rdkit.Chem\n",
    "import rdkit.Chem.Fragments\n",
    "import rdkit.Chem.Descriptors\n",
    "import rdkit.Chem.rdchem\n",
    "\n",
    "\n",
    "\n",
    "# Ploting \n",
    "# ==============================================================================\n",
    "import matplotlib.pyplot as plt\n",
    "import seaborn as sns\n",
    "\n"
   ]
  },
  {
   "cell_type": "code",
   "execution_count": null,
   "metadata": {
    "executionInfo": {
     "elapsed": 8,
     "status": "ok",
     "timestamp": 1629689261983,
     "user": {
      "displayName": "",
      "photoUrl": "",
      "userId": ""
     },
     "user_tz": 300
    },
    "id": "1HK_W-0XAXkE"
   },
   "outputs": [],
   "source": [
    "\n",
    "pd.set_option(\"display.precision\", 3)\n"
   ]
  },
  {
   "cell_type": "markdown",
   "metadata": {
    "id": "uoaGudQOAXkF"
   },
   "source": [
    "<br>\n",
    "<br>\n",
    "<br>\n",
    "<br>\n",
    "<br>\n",
    "<br>\n",
    "<br>\n",
    "<br>\n",
    "<br>\n",
    "<br>\n",
    "\n",
    "<font size='6' style=\"color:#00A6D6\">  <b>3. Loading Data</b> </font>\n",
    "<a name=\"loading\"></a>\n",
    "\n",
    "[[ Back to Top ]](#content)\n",
    "\n",
    "<br>\n",
    "<br>\n",
    "<br>\n"
   ]
  },
  {
   "cell_type": "code",
   "execution_count": null,
   "metadata": {
    "colab": {
     "base_uri": "https://localhost:8080/",
     "height": 220
    },
    "executionInfo": {
     "elapsed": 231,
     "status": "ok",
     "timestamp": 1629689262207,
     "user": {
      "displayName": "",
      "photoUrl": "",
      "userId": ""
     },
     "user_tz": 300
    },
    "id": "G_RUSePLAXkF",
    "outputId": "9d1832de-fdee-4ced-85e0-09971ecdb0e0"
   },
   "outputs": [],
   "source": [
    "\n",
    "# Load the raw data\n",
    "# ==============================================================================\n",
    "df_raw = pd.read_csv('https://raw.githubusercontent.com/LilianaArguello/RIIA_test/main/data/delaney-miguel-processed.csv')\n",
    "df_raw.head()\n"
   ]
  },
  {
   "cell_type": "code",
   "execution_count": null,
   "metadata": {
    "colab": {
     "base_uri": "https://localhost:8080/",
     "height": 312
    },
    "executionInfo": {
     "elapsed": 7,
     "status": "ok",
     "timestamp": 1629689262207,
     "user": {
      "displayName": "",
      "photoUrl": "",
      "userId": ""
     },
     "user_tz": 300
    },
    "id": "OeRrndNVAXkG",
    "outputId": "01496474-d743-4cf7-bf6b-0dd33aeb3af2"
   },
   "outputs": [],
   "source": [
    "\n",
    "# Quick overview of the data statistics\n",
    "# ==============================================================================\n",
    "df_raw.describe()\n"
   ]
  },
  {
   "cell_type": "code",
   "execution_count": null,
   "metadata": {
    "colab": {
     "base_uri": "https://localhost:8080/",
     "height": 203
    },
    "executionInfo": {
     "elapsed": 7,
     "status": "ok",
     "timestamp": 1629689262208,
     "user": {
      "displayName": "",
      "photoUrl": "",
      "userId": ""
     },
     "user_tz": 300
    },
    "id": "3F3TXFa-AXkG",
    "outputId": "55a3f101-1a4b-4251-f99a-4084acf1e9be"
   },
   "outputs": [],
   "source": [
    "\n",
    "# We whould never modify the raw external data so here we take the data we need and store it in our own\n",
    "# dataframe for further analysis\n",
    "# ==============================================================================\n",
    "df = df_raw.copy(deep=True)\n",
    "df.drop(columns=['Unnamed: 0','Number of Rings.1'], inplace=True)\n",
    "df.head()\n"
   ]
  },
  {
   "cell_type": "markdown",
   "metadata": {
    "id": "xiCymrgJAXkH"
   },
   "source": [
    "<br>\n",
    "<br>\n",
    "<br>\n",
    "<br>\n",
    "<br>\n",
    "<br>\n",
    "<br>\n",
    "<br>\n",
    "<br>\n",
    "<br>\n",
    "\n",
    "<font size='6' style=\"color:#00A6D6\">  <b>4. Explore the Data</b> </font>\n",
    "<a name=\"exploration\"></a>\n",
    "\n",
    "[[ Back to Top ]](#content)\n",
    "\n",
    "<br>\n",
    "<br>\n",
    "<br>\n"
   ]
  },
  {
   "cell_type": "code",
   "execution_count": null,
   "metadata": {
    "colab": {
     "base_uri": "https://localhost:8080/",
     "height": 513
    },
    "executionInfo": {
     "elapsed": 1485,
     "status": "ok",
     "timestamp": 1629689263687,
     "user": {
      "displayName": "",
      "photoUrl": "",
      "userId": ""
     },
     "user_tz": 300
    },
    "id": "LhpGxqKwAXkH",
    "outputId": "e7d1f9be-58ea-423c-b7b8-95dd42d76ee2"
   },
   "outputs": [],
   "source": [
    "\n",
    "# Here we show the distribution of both the solubility and the molecular weight.\n",
    "# Both variables grouped by the number of rings in the molecules.\n",
    "# ==============================================================================\n",
    "jointplot_mw = sns.jointplot(x='Molecular Weight', y='measured log solubility in mols per litre', \n",
    "               hue='Number of Rings', \n",
    "               palette='rainbow', height=7,\n",
    "               data=df)\n",
    "\n",
    "jointplot_mw.fig.set_figwidth(15)\n",
    "plt.ylim(-12,2)\n",
    "plt.show()\n"
   ]
  },
  {
   "cell_type": "markdown",
   "metadata": {
    "id": "AiioZuYEAXkI"
   },
   "source": [
    "<br>\n",
    "<br>\n",
    "<br>\n",
    "<br>\n",
    "<br>\n",
    "<br>\n",
    "<br>\n",
    "<br>\n",
    "<br>\n",
    "<br>\n",
    "\n",
    "<font size='6' style=\"color:#00A6D6\">  <b>5. Simple Models</b> </font>\n",
    "<a name=\"cleaning\"></a>\n",
    "\n",
    "[[ Back to Top ]](#content)\n",
    "\n",
    "<br>\n",
    "<br>\n",
    "<br>\n"
   ]
  },
  {
   "cell_type": "markdown",
   "metadata": {
    "id": "mWmYqpaeAXkI"
   },
   "source": [
    "<font size='4'>\n",
    "\n",
    "Keep in mind that all of the models presented here are used with their default parameters. This is of course a naive approach for ML modeling but for the goals already discussed in this notebook it does not represents a major issue.\n",
    "\n",
    "Future model optimization will be performed in the next notebook if this series. \n",
    "\n",
    "</font> "
   ]
  },
  {
   "cell_type": "code",
   "execution_count": null,
   "metadata": {
    "executionInfo": {
     "elapsed": 6,
     "status": "ok",
     "timestamp": 1629689263688,
     "user": {
      "displayName": "",
      "photoUrl": "",
      "userId": ""
     },
     "user_tz": 300
    },
    "id": "bMcu5lz6AXkI"
   },
   "outputs": [],
   "source": [
    "\n",
    "# Linear Models\n",
    "# ==============================================================================\n",
    "from sklearn.linear_model import LinearRegression\n",
    "from sklearn.linear_model import Ridge\n",
    "from sklearn.linear_model import Lasso\n",
    "from sklearn.linear_model import ElasticNet\n",
    "\n",
    "\n",
    "# SVM Models\n",
    "# ==============================================================================\n",
    "from sklearn.svm import SVR\n",
    "from sklearn.svm import LinearSVR\n",
    "\n",
    "\n",
    "# KNN Models\n",
    "# ==============================================================================\n",
    "from sklearn.neighbors import KNeighborsRegressor\n",
    "from sklearn.neighbors import RadiusNeighborsRegressor\n",
    "\n",
    "\n",
    "# Gaussian Process Models\n",
    "# ==============================================================================\n",
    "from sklearn.gaussian_process import GaussianProcessRegressor\n",
    "\n",
    "\n",
    "# Cross Decomposition Process Models\n",
    "# ==============================================================================\n",
    "from sklearn.cross_decomposition import PLSRegression\n",
    "\n",
    "\n",
    "# Ensemble Models\n",
    "# ==============================================================================\n",
    "from sklearn.ensemble import RandomForestRegressor      # Bagging\n",
    "from sklearn.ensemble import GradientBoostingRegressor  # Boosting\n"
   ]
  },
  {
   "cell_type": "markdown",
   "metadata": {
    "id": "UgVh82zTAXkI"
   },
   "source": [
    "\n",
    "# Datasets\n"
   ]
  },
  {
   "cell_type": "code",
   "execution_count": null,
   "metadata": {
    "colab": {
     "base_uri": "https://localhost:8080/",
     "height": 203
    },
    "executionInfo": {
     "elapsed": 5,
     "status": "ok",
     "timestamp": 1629689263688,
     "user": {
      "displayName": "",
      "photoUrl": "",
      "userId": ""
     },
     "user_tz": 300
    },
    "id": "GcxD7qoFAXkI",
    "outputId": "17283466-92c9-47bd-bfd1-43103c6b1edb"
   },
   "outputs": [],
   "source": [
    "\n",
    "# Here we separate the independent variables for their analysis\n",
    "# ==============================================================================\n",
    "X = df.copy(deep=True)\n",
    "X.drop(columns=['measured log solubility in mols per litre'], inplace=True)\n",
    "X.head()\n"
   ]
  },
  {
   "cell_type": "code",
   "execution_count": null,
   "metadata": {
    "executionInfo": {
     "elapsed": 11,
     "status": "ok",
     "timestamp": 1629689263929,
     "user": {
      "displayName": "",
      "photoUrl": "",
      "userId": ""
     },
     "user_tz": 300
    },
    "id": "7GuM_2deAXkJ"
   },
   "outputs": [],
   "source": [
    "\n",
    "# Define the target variable\n",
    "# ==============================================================================\n",
    "y = df['measured log solubility in mols per litre']\n"
   ]
  },
  {
   "cell_type": "code",
   "execution_count": null,
   "metadata": {
    "executionInfo": {
     "elapsed": 11,
     "status": "ok",
     "timestamp": 1629689263929,
     "user": {
      "displayName": "",
      "photoUrl": "",
      "userId": ""
     },
     "user_tz": 300
    },
    "id": "OnPD6gQGAXkJ"
   },
   "outputs": [],
   "source": [
    "\n",
    "# Train-Test split of the dataset\n",
    "# ==============================================================================\n",
    "X_train, X_test, y_train, y_test = train_test_split(X, y, test_size=0.2, random_state=0)\n"
   ]
  },
  {
   "cell_type": "code",
   "execution_count": null,
   "metadata": {
    "colab": {
     "base_uri": "https://localhost:8080/"
    },
    "executionInfo": {
     "elapsed": 11,
     "status": "ok",
     "timestamp": 1629689263929,
     "user": {
      "displayName": "",
      "photoUrl": "",
      "userId": ""
     },
     "user_tz": 300
    },
    "id": "Q6_oNZlxCND2",
    "outputId": "c7320571-3e19-4810-95b4-bace75491bce"
   },
   "outputs": [],
   "source": [
    "print(X_train)"
   ]
  },
  {
   "cell_type": "code",
   "execution_count": null,
   "metadata": {
    "executionInfo": {
     "elapsed": 11,
     "status": "ok",
     "timestamp": 1629689263930,
     "user": {
      "displayName": "",
      "photoUrl": "",
      "userId": ""
     },
     "user_tz": 300
    },
    "id": "SAMbhKLGAXkJ"
   },
   "outputs": [],
   "source": [
    "\n",
    "# List to store the models and their names\n",
    "# ==============================================================================\n",
    "\n",
    "models = []\n",
    "\n",
    "models.append((\"LinearRegression\", LinearRegression()))\n",
    "models.append((\"Ridge\", Ridge()))\n",
    "models.append((\"Lasso\", Lasso()))\n",
    "models.append((\"ElasticNet\", ElasticNet()))\n",
    "models.append((\"LinearSVR\", LinearSVR()))\n",
    "models.append((\"SVR\", SVR()))\n",
    "models.append((\"KNeighborsRegressor\", KNeighborsRegressor()))\n",
    "models.append((\"RadiusNeighborsRegressor\", RadiusNeighborsRegressor()))\n",
    "models.append((\"GaussianProcessRegressor\", GaussianProcessRegressor()))\n",
    "models.append((\"PLSRegression\", PLSRegression()))\n",
    "models.append((\"RandomForestRegressor\", RandomForestRegressor()))\n",
    "models.append((\"GradientBoostingRegressor\", GradientBoostingRegressor()))\n"
   ]
  },
  {
   "cell_type": "code",
   "execution_count": null,
   "metadata": {
    "executionInfo": {
     "elapsed": 10,
     "status": "ok",
     "timestamp": 1629689263930,
     "user": {
      "displayName": "",
      "photoUrl": "",
      "userId": ""
     },
     "user_tz": 300
    },
    "id": "kDCCGB-HAXkJ"
   },
   "outputs": [],
   "source": [
    "\n",
    "# Define the Mean Absolute Error. Our definition is slighly different due to the\n",
    "# particular data manipuluation of our features.\n",
    "# ==============================================================================\n",
    "\n",
    "def mae(x_test, y_test, y, model):\n",
    "    y_pred = model.predict(x_test)\n",
    "    y_pred = np.nan_to_num(y_pred, nan=np.amin(y))\n",
    "    \n",
    "    mae = metrics.mean_absolute_error(y_pred, y_test)\n",
    "    \n",
    "    return np.round(mae, decimals=4)\n"
   ]
  },
  {
   "cell_type": "code",
   "execution_count": null,
   "metadata": {
    "executionInfo": {
     "elapsed": 11,
     "status": "ok",
     "timestamp": 1629689263931,
     "user": {
      "displayName": "",
      "photoUrl": "",
      "userId": ""
     },
     "user_tz": 300
    },
    "id": "jrJiQ3NMAXkJ"
   },
   "outputs": [],
   "source": [
    "\n",
    "# Define the Root Mean Square Error. Our definition is slighly different due to the\n",
    "# particular data manipuluation of our features.\n",
    "# ==============================================================================\n",
    "\n",
    "def rmse(x_test, y_test, y, model):\n",
    "    y_pred = model.predict(x_test)\n",
    "    y_pred = np.nan_to_num(y_pred, nan=np.amin(y))\n",
    "    \n",
    "    rmse = np.sqrt(metrics.mean_squared_error(y_pred, y_test))\n",
    " \n",
    "    return np.round(rmse, decimals=4)\n"
   ]
  },
  {
   "cell_type": "code",
   "execution_count": null,
   "metadata": {
    "executionInfo": {
     "elapsed": 11,
     "status": "ok",
     "timestamp": 1629689263931,
     "user": {
      "displayName": "",
      "photoUrl": "",
      "userId": ""
     },
     "user_tz": 300
    },
    "id": "apXVmC3RAXkK"
   },
   "outputs": [],
   "source": [
    "\n",
    "# List to store the metrics results for all models\n",
    "# ==============================================================================\n",
    "\n",
    "names        = []\n",
    "mae_results  = []\n",
    "rmse_results = []\n"
   ]
  },
  {
   "cell_type": "code",
   "execution_count": null,
   "metadata": {
    "colab": {
     "base_uri": "https://localhost:8080/"
    },
    "executionInfo": {
     "elapsed": 635,
     "status": "ok",
     "timestamp": 1629689264555,
     "user": {
      "displayName": "",
      "photoUrl": "",
      "userId": ""
     },
     "user_tz": 300
    },
    "id": "oz74lgZCAXkK",
    "outputId": "67dc3877-9d99-4720-82e1-848f806d3cc9"
   },
   "outputs": [],
   "source": [
    "\n",
    "# Loop to store all results\n",
    "# ==============================================================================\n",
    "\n",
    "for name, model in models:\n",
    "    \n",
    "    # Get the model name\n",
    "    names.append(name)\n",
    "    \n",
    "    # Fit the model\n",
    "    model.fit(X_train, y_train)\n",
    "    \n",
    "    # Store the MAE\n",
    "    mae_results.append( mae(X_test, y_test, y, model) )\n",
    "    \n",
    "    # Store the RMSE\n",
    "    rmse_results.append( rmse(X_test, y_test, y, model) )\n",
    "                                                   "
   ]
  },
  {
   "cell_type": "code",
   "execution_count": null,
   "metadata": {
    "colab": {
     "base_uri": "https://localhost:8080/"
    },
    "executionInfo": {
     "elapsed": 7,
     "status": "ok",
     "timestamp": 1629689264557,
     "user": {
      "displayName": "",
      "photoUrl": "",
      "userId": ""
     },
     "user_tz": 300
    },
    "id": "93bnt9fpAXkK",
    "outputId": "4777f0bd-1da3-47e5-c9d3-79a7747bf891"
   },
   "outputs": [],
   "source": [
    "\n",
    "# Loop to print all of the results\n",
    "# ==============================================================================\n",
    "\n",
    "for i in range(len(names)):\n",
    "    print(names[i], mae_results[i], rmse_results[i])\n"
   ]
  },
  {
   "cell_type": "markdown",
   "metadata": {
    "id": "yIlfqR2GAXkK"
   },
   "source": [
    "<br>\n",
    "<br>\n",
    "<br>\n",
    "\n",
    "# Transforming the Features\n",
    "\n"
   ]
  },
  {
   "cell_type": "code",
   "execution_count": null,
   "metadata": {
    "executionInfo": {
     "elapsed": 7,
     "status": "ok",
     "timestamp": 1629689264558,
     "user": {
      "displayName": "",
      "photoUrl": "",
      "userId": ""
     },
     "user_tz": 300
    },
    "id": "m5Gyr-8jAXkL"
   },
   "outputs": [],
   "source": [
    "\n",
    "# Transformation to fix features\n",
    "# ==============================================================================\n",
    "\n",
    "from sklearn.preprocessing import PowerTransformer\n"
   ]
  },
  {
   "cell_type": "code",
   "execution_count": null,
   "metadata": {
    "executionInfo": {
     "elapsed": 6,
     "status": "ok",
     "timestamp": 1629689264558,
     "user": {
      "displayName": "",
      "photoUrl": "",
      "userId": ""
     },
     "user_tz": 300
    },
    "id": "ueAHjDBDAXkL"
   },
   "outputs": [],
   "source": [
    "\n",
    "# Define the Mean Absolute Error for Transformed Features. \n",
    "# Our definition is slighly different due to the particular data manipuluation of our features.\n",
    "# ==============================================================================\n",
    "\n",
    "def mae_transformed_features(x_test, y_test, y, model):\n",
    "    y_pred = model.predict(x_test)\n",
    "    y_pred = np.nan_to_num(y_pred, nan=np.amin(y))\n",
    "    \n",
    "    mae = metrics.mean_absolute_error(y_pred, y_test)\n",
    "    \n",
    "    return np.round(mae, decimals=4)\n"
   ]
  },
  {
   "cell_type": "code",
   "execution_count": null,
   "metadata": {
    "executionInfo": {
     "elapsed": 6,
     "status": "ok",
     "timestamp": 1629689264558,
     "user": {
      "displayName": "",
      "photoUrl": "",
      "userId": ""
     },
     "user_tz": 300
    },
    "id": "CNQVY_sfAXkL"
   },
   "outputs": [],
   "source": [
    "\n",
    "# Define the Root Mean Square Error for Transformed Features. \n",
    "# Our definition is slighly different due to the particular data manipuluation of our features.\n",
    "# ==============================================================================\n",
    "def rmse_transformed_features(x_test, y_test, y, model):\n",
    "    y_pred = model.predict(x_test)\n",
    "    y_pred = np.nan_to_num(y_pred, nan=np.amin(y))\n",
    "    \n",
    "    rmse = np.sqrt(metrics.mean_squared_error(y_pred, y_test))\n",
    "    \n",
    "    return np.round(rmse, decimals=4)\n"
   ]
  },
  {
   "cell_type": "code",
   "execution_count": null,
   "metadata": {
    "executionInfo": {
     "elapsed": 7,
     "status": "ok",
     "timestamp": 1629689264559,
     "user": {
      "displayName": "",
      "photoUrl": "",
      "userId": ""
     },
     "user_tz": 300
    },
    "id": "P0TaB7p5AXkL"
   },
   "outputs": [],
   "source": [
    "\n",
    "# Define the Feature transformer\n",
    "# ==============================================================================\n",
    "power_transformer = PowerTransformer(method='yeo-johnson')\n"
   ]
  },
  {
   "cell_type": "code",
   "execution_count": null,
   "metadata": {
    "colab": {
     "base_uri": "https://localhost:8080/",
     "height": 203
    },
    "executionInfo": {
     "elapsed": 7,
     "status": "ok",
     "timestamp": 1629689264559,
     "user": {
      "displayName": "",
      "photoUrl": "",
      "userId": ""
     },
     "user_tz": 300
    },
    "id": "XjcRzQoaAXkL",
    "outputId": "8aa817f0-3220-4350-c0aa-bb031355516e"
   },
   "outputs": [],
   "source": [
    "\n",
    "# Define the Feature Dataframe\n",
    "# ==============================================================================\n",
    "X_t = df.copy(deep=True)\n",
    "X_t.drop(columns='measured log solubility in mols per litre', inplace=True)\n",
    "X_t.head()\n"
   ]
  },
  {
   "cell_type": "code",
   "execution_count": null,
   "metadata": {
    "executionInfo": {
     "elapsed": 6,
     "status": "ok",
     "timestamp": 1629689264559,
     "user": {
      "displayName": "",
      "photoUrl": "",
      "userId": ""
     },
     "user_tz": 300
    },
    "id": "c30bfPdWAXkM"
   },
   "outputs": [],
   "source": [
    "\n",
    "# Transform the Feature Dataframe\n",
    "# ==============================================================================\n",
    "X_trans = power_transformer.fit_transform(X_t)\n"
   ]
  },
  {
   "cell_type": "code",
   "execution_count": null,
   "metadata": {
    "executionInfo": {
     "elapsed": 7,
     "status": "ok",
     "timestamp": 1629689264560,
     "user": {
      "displayName": "",
      "photoUrl": "",
      "userId": ""
     },
     "user_tz": 300
    },
    "id": "Iq5o1LISAXkM"
   },
   "outputs": [],
   "source": [
    "\n",
    "# Train-Test split of the transformed dataset\n",
    "# ==============================================================================\n",
    "X_train_t, X_test_t, y_train, y_test = train_test_split(X_trans, y, test_size=0.2, random_state=0)\n"
   ]
  },
  {
   "cell_type": "code",
   "execution_count": null,
   "metadata": {
    "executionInfo": {
     "elapsed": 2,
     "status": "ok",
     "timestamp": 1629689264781,
     "user": {
      "displayName": "",
      "photoUrl": "",
      "userId": ""
     },
     "user_tz": 300
    },
    "id": "yQWjcjqwAXkM"
   },
   "outputs": [],
   "source": [
    "\n",
    "# List to store the models and their names for the transformed features\n",
    "# ==============================================================================\n",
    "models_t = []\n",
    "\n",
    "models_t.append((\"LinearRegression\", LinearRegression()))\n",
    "models_t.append((\"Ridge\", Ridge()))\n",
    "models_t.append((\"Lasso\", Lasso()))\n",
    "models_t.append((\"ElasticNet\", ElasticNet()))\n",
    "models_t.append((\"LinearSVR\", LinearSVR()))\n",
    "models_t.append((\"SVR\", SVR()))\n",
    "models_t.append((\"KNeighborsRegressor\", KNeighborsRegressor()))\n",
    "models_t.append((\"RadiusNeighborsRegressor\", RadiusNeighborsRegressor()))\n",
    "models_t.append((\"GaussianProcessRegressor\", GaussianProcessRegressor()))\n",
    "models_t.append((\"PLSRegression\", PLSRegression()))\n",
    "models_t.append((\"RandomForestRegressor\", RandomForestRegressor()))\n",
    "models_t.append((\"GradientBoostingRegressor\", GradientBoostingRegressor()))\n"
   ]
  },
  {
   "cell_type": "code",
   "execution_count": null,
   "metadata": {
    "executionInfo": {
     "elapsed": 2,
     "status": "ok",
     "timestamp": 1629689264781,
     "user": {
      "displayName": "",
      "photoUrl": "",
      "userId": ""
     },
     "user_tz": 300
    },
    "id": "XWZtUhvMAXkM"
   },
   "outputs": [],
   "source": [
    "\n",
    "# List to store the metrics results for all models with transformed features\n",
    "# ==============================================================================\n",
    "mae_results_t  = []\n",
    "rmse_results_t = []\n"
   ]
  },
  {
   "cell_type": "code",
   "execution_count": null,
   "metadata": {
    "colab": {
     "base_uri": "https://localhost:8080/"
    },
    "executionInfo": {
     "elapsed": 624,
     "status": "ok",
     "timestamp": 1629689265403,
     "user": {
      "displayName": "",
      "photoUrl": "",
      "userId": ""
     },
     "user_tz": 300
    },
    "id": "OSs4Rc2oAXkM",
    "outputId": "ea088bcf-60fa-46a5-dd15-5feef3d67475"
   },
   "outputs": [],
   "source": [
    "\n",
    "# Loop to store all results for the transformed features\n",
    "# ==============================================================================\n",
    "\n",
    "for name, model in models_t:\n",
    "    # Fit the model\n",
    "    model.fit(X_train_t, y_train)\n",
    "    \n",
    "    # Store MAE\n",
    "    mae_results_t.append( mae_transformed_features(X_test_t, y_test, y, model) )\n",
    "    \n",
    "    # Store RMSE\n",
    "    rmse_results_t.append( rmse_transformed_features(X_test_t, y_test, y, model) )\n",
    "                                                   \n"
   ]
  },
  {
   "cell_type": "code",
   "execution_count": null,
   "metadata": {
    "colab": {
     "base_uri": "https://localhost:8080/"
    },
    "executionInfo": {
     "elapsed": 7,
     "status": "ok",
     "timestamp": 1629689265403,
     "user": {
      "displayName": "",
      "photoUrl": "",
      "userId": ""
     },
     "user_tz": 300
    },
    "id": "2zYdzkAwAXkN",
    "outputId": "71ee17d4-a460-4b28-bdd6-d9e6b1f22f10"
   },
   "outputs": [],
   "source": [
    "\n",
    "# Loop to print all of the results for the models with transformed features\n",
    "# ==============================================================================\n",
    "\n",
    "for i in range(len(names)):\n",
    "    print(names[i], mae_results_t[i], rmse_results_t[i])\n"
   ]
  },
  {
   "cell_type": "markdown",
   "metadata": {
    "id": "-yaqhsPMAXkN"
   },
   "source": [
    "<br>\n",
    "<br>\n",
    "<br>\n",
    "\n",
    "# Transforming the Target\n",
    "\n"
   ]
  },
  {
   "cell_type": "code",
   "execution_count": null,
   "metadata": {
    "executionInfo": {
     "elapsed": 6,
     "status": "ok",
     "timestamp": 1629689265404,
     "user": {
      "displayName": "",
      "photoUrl": "",
      "userId": ""
     },
     "user_tz": 300
    },
    "id": "Pnz6I1o-AXkN"
   },
   "outputs": [],
   "source": [
    "\n",
    "# Transformer for the target variable\n",
    "# ==============================================================================\n",
    "from sklearn.preprocessing import RobustScaler\n",
    "robust_transformer = RobustScaler()\n"
   ]
  },
  {
   "cell_type": "code",
   "execution_count": null,
   "metadata": {
    "executionInfo": {
     "elapsed": 6,
     "status": "ok",
     "timestamp": 1629689265404,
     "user": {
      "displayName": "",
      "photoUrl": "",
      "userId": ""
     },
     "user_tz": 300
    },
    "id": "eTOWZEayAXkN"
   },
   "outputs": [],
   "source": [
    "\n",
    "# MAE for the transformed Dataset\n",
    "# ==============================================================================\n",
    "\n",
    "def mae_transformed_data(x_test, y_test, y, model):\n",
    "    y_pred = robust_transformer.inverse_transform(model.predict(x_test).reshape(1, -1))\n",
    "    y_pred = np.nan_to_num(y_pred, nan=np.amin(y))\n",
    "    y_true = robust_transformer.inverse_transform(y_test).reshape(1, -1)\n",
    "    \n",
    "    mae = metrics.mean_absolute_error(y_pred, y_true)\n",
    "    \n",
    "    return np.round(mae, decimals=4)\n"
   ]
  },
  {
   "cell_type": "code",
   "execution_count": null,
   "metadata": {
    "executionInfo": {
     "elapsed": 5,
     "status": "ok",
     "timestamp": 1629689265404,
     "user": {
      "displayName": "",
      "photoUrl": "",
      "userId": ""
     },
     "user_tz": 300
    },
    "id": "9LBouqNUAXkN"
   },
   "outputs": [],
   "source": [
    "\n",
    "# RMSE for the transformed Dataset\n",
    "# ==============================================================================\n",
    "\n",
    "def rmse_transformed_data(x_test, y_test, y, model):\n",
    "    y_pred = robust_transformer.inverse_transform(model.predict(x_test).reshape(1, -1))\n",
    "    y_pred = np.nan_to_num(y_pred, nan=np.amin(y))\n",
    "    y_true = robust_transformer.inverse_transform(y_test).reshape(1, -1)\n",
    "    \n",
    "    rmse = np.sqrt(metrics.mean_squared_error(y_pred, y_true))\n",
    "    \n",
    "    return np.round(rmse, decimals=4)\n"
   ]
  },
  {
   "cell_type": "code",
   "execution_count": null,
   "metadata": {
    "executionInfo": {
     "elapsed": 5,
     "status": "ok",
     "timestamp": 1629689265404,
     "user": {
      "displayName": "",
      "photoUrl": "",
      "userId": ""
     },
     "user_tz": 300
    },
    "id": "l_dItnoqAXkN"
   },
   "outputs": [],
   "source": [
    "\n",
    "# Transformed the target variable\n",
    "# ==============================================================================\n",
    "y_t = df['measured log solubility in mols per litre'].values.reshape(-1,1).astype(np.float32)\n",
    "y_trans = robust_transformer.fit_transform(y_t)\n"
   ]
  },
  {
   "cell_type": "code",
   "execution_count": null,
   "metadata": {
    "executionInfo": {
     "elapsed": 5,
     "status": "ok",
     "timestamp": 1629689265405,
     "user": {
      "displayName": "",
      "photoUrl": "",
      "userId": ""
     },
     "user_tz": 300
    },
    "id": "6OA1LyjOAXkN"
   },
   "outputs": [],
   "source": [
    "\n",
    "# Train-Test split for the transformed dataset\n",
    "# ==============================================================================\n",
    "X_train_t, X_test_t, y_train_t, y_test_t = train_test_split(X_trans, y_trans, test_size=0.2, random_state=0)\n"
   ]
  },
  {
   "cell_type": "code",
   "execution_count": null,
   "metadata": {
    "executionInfo": {
     "elapsed": 5,
     "status": "ok",
     "timestamp": 1629689265405,
     "user": {
      "displayName": "",
      "photoUrl": "",
      "userId": ""
     },
     "user_tz": 300
    },
    "id": "cHgpgUNqAXkN"
   },
   "outputs": [],
   "source": [
    "\n",
    "# List to store the models and their names for the transformed dataset\n",
    "# ==============================================================================\n",
    "models_f = []\n",
    "\n",
    "models_f.append((\"LinearRegression\", LinearRegression()))\n",
    "models_f.append((\"Ridge\", Ridge()))\n",
    "models_f.append((\"Lasso\", Lasso()))\n",
    "models_f.append((\"ElasticNet\", ElasticNet()))\n",
    "models_f.append((\"LinearSVR\", LinearSVR()))\n",
    "models_f.append((\"SVR\", SVR()))\n",
    "models_f.append((\"KNeighborsRegressor\", KNeighborsRegressor()))\n",
    "models_f.append((\"RadiusNeighborsRegressor\", RadiusNeighborsRegressor()))\n",
    "models_f.append((\"GaussianProcessRegressor\", GaussianProcessRegressor()))\n",
    "models_f.append((\"PLSRegression\", PLSRegression()))\n",
    "models_f.append((\"RandomForestRegressor\", RandomForestRegressor()))\n",
    "models_f.append((\"GradientBoostingRegressor\", GradientBoostingRegressor()))\n"
   ]
  },
  {
   "cell_type": "code",
   "execution_count": null,
   "metadata": {
    "executionInfo": {
     "elapsed": 5,
     "status": "ok",
     "timestamp": 1629689265405,
     "user": {
      "displayName": "",
      "photoUrl": "",
      "userId": ""
     },
     "user_tz": 300
    },
    "id": "8uvRK-KuAXkN"
   },
   "outputs": [],
   "source": [
    "\n",
    "# List to store the metrics results for all models with the transformed dataset\n",
    "# ==============================================================================\n",
    "\n",
    "mae_results_f  = []\n",
    "rmse_results_f = []\n"
   ]
  },
  {
   "cell_type": "code",
   "execution_count": null,
   "metadata": {
    "colab": {
     "base_uri": "https://localhost:8080/"
    },
    "executionInfo": {
     "elapsed": 820,
     "status": "ok",
     "timestamp": 1629689266221,
     "user": {
      "displayName": "",
      "photoUrl": "",
      "userId": ""
     },
     "user_tz": 300
    },
    "id": "SCsT53hEAXkO",
    "outputId": "0985b264-c540-40bf-9f0e-07890e57bdce"
   },
   "outputs": [],
   "source": [
    "\n",
    "# Loop to store all results for the transformed dataset\n",
    "# ==============================================================================\n",
    "\n",
    "for name, model in models_f:\n",
    "    model.fit(X_train_t, y_train_t)\n",
    "    mae_results_f.append( mae_transformed_data(X_test_t, y_test_t, y_trans, model)  )\n",
    "    rmse_results_f.append( rmse_transformed_data(X_test_t, y_test_t, y_trans, model) )\n",
    "                                                   \n"
   ]
  },
  {
   "cell_type": "code",
   "execution_count": null,
   "metadata": {
    "colab": {
     "base_uri": "https://localhost:8080/"
    },
    "executionInfo": {
     "elapsed": 4,
     "status": "ok",
     "timestamp": 1629689266222,
     "user": {
      "displayName": "",
      "photoUrl": "",
      "userId": ""
     },
     "user_tz": 300
    },
    "id": "OG2_SwBlAXkO",
    "outputId": "af5fd22d-a969-4ae9-a80c-54a7613fd861"
   },
   "outputs": [],
   "source": [
    "\n",
    "# Metrics for the transformed dataset\n",
    "# ==============================================================================\n",
    "\n",
    "for i in range(len(names)):\n",
    "    print(names[i], mae_results_f[i], rmse_results_f[i])\n"
   ]
  },
  {
   "cell_type": "code",
   "execution_count": null,
   "metadata": {
    "executionInfo": {
     "elapsed": 258,
     "status": "ok",
     "timestamp": 1629689266478,
     "user": {
      "displayName": "",
      "photoUrl": "",
      "userId": ""
     },
     "user_tz": 300
    },
    "id": "5Mb6p_heAXkO"
   },
   "outputs": [],
   "source": [
    "\n",
    "# Function to compare the 3 strategies\n",
    "# ==============================================================================\n",
    "\n",
    "def plot_strategies(x, x_trans, y, y_trans, index):\n",
    "\n",
    "    \n",
    "    fig, (ax0, ax1) = plt.subplots(2, 3, sharey='row', figsize=(15, 10))\n",
    "    fig.suptitle('{} Model'.format(names[index]))\n",
    "    \n",
    "    # ==============================================================================\n",
    "    # ==============================================================================\n",
    "    \n",
    "    if np.shape(models[index][1].predict(x)) == (1015,):\n",
    "        x_vec = np.nan_to_num(models[index][1].predict(x), nan=np.amin(y))\n",
    "    else:\n",
    "        x_vec = np.nan_to_num(models[index][1].predict(x).flatten(), nan=np.amin(y))\n",
    "    \n",
    "    # ==============================================================================\n",
    "    # ==============================================================================\n",
    "    \n",
    "    x_vec_t = np.nan_to_num(models_t[index][1].predict(x_trans).reshape(-1,1).flatten(), nan=np.amin(y_t))\n",
    "    \n",
    "    # ==============================================================================\n",
    "    # ==============================================================================\n",
    "    \n",
    "    if np.shape(models_f[index][1].predict(x_trans)) == (1015,1):\n",
    "        x_vec_f = np.nan_to_num(robust_transformer.inverse_transform(\n",
    "            models_f[index][1].predict(x_trans)).flatten(), nan=np.amin(y_t))\n",
    "    else:\n",
    "        x_vec_f = np.nan_to_num(robust_transformer.inverse_transform(\n",
    "            models_f[index][1].predict(x_trans).reshape(-1,1)).flatten(), nan=np.amin(y_t))\n",
    "        \n",
    "    # ==============================================================================\n",
    "    # ==============================================================================\n",
    "        \n",
    "    y_vec_f = robust_transformer.inverse_transform(y_trans).flatten()\n",
    "    \n",
    "    \n",
    "    # Here we pick the feautures after data cleaning\n",
    "    # ==============================================================================\n",
    "    ax0[0].set_title('No Feature or Target Transformation \\n $MAE$=%.2f, RMSE=%.2f'\n",
    "                     %(mae_results[index], rmse_results[index]))\n",
    "\n",
    "    sns.scatterplot(x=x_vec, y=y, ax=ax0[0])\n",
    "    ax0[0].plot([-20, 3], [-20,3], '--k')\n",
    "    ax0[0].set_ylabel('True target')\n",
    "    ax0[0].set_xlabel('Predicted target')\n",
    "    ax0[0].ticklabel_format(axis=\"both\")\n",
    "    ax0[0].set_ylim([-12.5, 2.5])\n",
    "\n",
    "    \n",
    "\n",
    "    # Here we pick the feautures after data cleaning\n",
    "    # ==============================================================================\n",
    "    ax0[1].set_title('Feature Transformation with No Target Transformation \\n $MAE$=%.2f, RMSE=%.2f'\n",
    "                     %(mae_results_t[index], rmse_results_t[index]))\n",
    "\n",
    "    sns.scatterplot(x=x_vec_t, y=y, ax=ax0[1])\n",
    "    ax0[1].plot([-20, 3], [-20,3], '--k')\n",
    "    ax0[1].set_ylabel('True target')\n",
    "    ax0[1].set_xlabel('Predicted target')\n",
    "    ax0[1].ticklabel_format(axis=\"both\")\n",
    "\n",
    "\n",
    "    \n",
    "    # Here we pick the feautures after data cleaning\n",
    "    # ==============================================================================\n",
    "    ax0[2].set_title('Feature and Target Transformation \\n $MAE$=%.2f, RMSE=%.2f'\n",
    "                     %(mae_results_f[index], rmse_results_f[index]))\n",
    "    sns.scatterplot(x=x_vec_f, y=y_vec_f, ax=ax0[2])\n",
    "    ax0[2].plot([-20, 3], [-20,3], '--k')\n",
    "    ax0[2].set_ylabel('True target')\n",
    "    ax0[2].set_xlabel('Predicted target')\n",
    "    ax0[2].ticklabel_format(axis=\"both\")\n",
    "\n",
    "\n",
    "    \n",
    "    # Here we pick the feautures after data cleaning\n",
    "    # ==============================================================================\n",
    "    ax1[0].set_title('Abs Error Histogram')\n",
    "    sns.histplot(np.abs(x_vec-y), ax=ax1[0], bins=10, stat='probability')\n",
    "    ax1[0].set_ylabel('Fraction')\n",
    "    ax1[0].set_xlabel('Absolute Error')\n",
    "\n",
    "    \n",
    "\n",
    "    # Here we pick the feautures after data cleaning\n",
    "    # ==============================================================================\n",
    "    ax1[1].set_title('Abs Error Histogram')\n",
    "    sns.histplot(np.abs(x_vec_t - y), ax=ax1[1], bins=10, stat='probability')\n",
    "    ax1[1].set_ylabel('Fraction')\n",
    "    ax1[1].set_xlabel('Absolute Error')\n",
    "\n",
    "\n",
    "\n",
    "    # Here we pick the feautures after data cleaning\n",
    "    # ==============================================================================\n",
    "    ax1[2].set_title('Abs Error Histogram')\n",
    "    sns.histplot(np.abs(x_vec_f - y_vec_f), ax=ax1[2], bins=10, stat='probability')\n",
    "    ax1[2].set_ylabel('Fraction')\n",
    "    ax1[2].set_xlabel('Absolute Error')\n",
    "\n",
    "\n",
    "    \n",
    "    plt.show()\n",
    "\n",
    "    \n"
   ]
  },
  {
   "cell_type": "code",
   "execution_count": null,
   "metadata": {
    "colab": {
     "base_uri": "https://localhost:8080/",
     "height": 845
    },
    "executionInfo": {
     "elapsed": 1492,
     "status": "ok",
     "timestamp": 1629689267969,
     "user": {
      "displayName": "",
      "photoUrl": "",
      "userId": ""
     },
     "user_tz": 300
    },
    "id": "7UMGXlTXAXkO",
    "outputId": "f5d47de4-ce1f-42ed-c048-73fc25bcc05f",
    "scrolled": false
   },
   "outputs": [],
   "source": [
    "\n",
    "# Here you can choose the index of the model you wamt to visualize\n",
    "# ==============================================================================\n",
    "plot_strategies(X, X_trans, y, y_trans, 7)\n"
   ]
  },
  {
   "cell_type": "code",
   "execution_count": null,
   "metadata": {
    "colab": {
     "base_uri": "https://localhost:8080/",
     "height": 284
    },
    "executionInfo": {
     "elapsed": 274,
     "status": "ok",
     "timestamp": 1629689268240,
     "user": {
      "displayName": "",
      "photoUrl": "",
      "userId": ""
     },
     "user_tz": 300
    },
    "id": "-WzbsjHTAXkO",
    "outputId": "57679bc4-2839-49c8-ef7a-17799f5cb92e",
    "scrolled": false
   },
   "outputs": [],
   "source": [
    "\n",
    "# Table to compare all of the metrics\n",
    "# ==============================================================================\n",
    "\n",
    "table_results = pd.DataFrame(list(zip(mae_results, mae_results_t, mae_results_f, rmse_results, \n",
    "                                      rmse_results_t, rmse_results_f)), \n",
    "                  index=names, \n",
    "                  columns =['MAE','MAE Tranformed Features','MAE Transformed Data', \n",
    "                            'RMSE','RMSE Tranformed Features','RMSE Tranformed Data'])\n",
    "\n",
    "table_results.style.highlight_min(color = 'lightgreen',  \n",
    "                       axis = 0).highlight_max(color = 'LightCoral',  \n",
    "                       axis = 0)\n"
   ]
  },
  {
   "cell_type": "markdown",
   "metadata": {
    "id": "bT67gbnZAXkO"
   },
   "source": [
    "<br>\n",
    "<br>\n",
    "<br>\n",
    "<br>\n",
    "<br>\n",
    "<br>\n",
    "<br>\n",
    "<br>\n",
    "<br>\n",
    "<br>\n",
    "\n",
    "<font size='6' style=\"color:#00A6D6\">  <b>6. Cross Validation</b> </font>\n",
    "<a name=\"features\"></a>\n",
    "\n",
    "[[ Back to Top ]](#content)\n",
    "\n",
    "<br>\n",
    "<br>\n",
    "<br>\n"
   ]
  },
  {
   "cell_type": "markdown",
   "metadata": {
    "id": "swTPbYm4AXkO"
   },
   "source": [
    "\n",
    "# Repeated K-Fold Validation\n"
   ]
  },
  {
   "cell_type": "code",
   "execution_count": null,
   "metadata": {
    "executionInfo": {
     "elapsed": 13,
     "status": "ok",
     "timestamp": 1629689268240,
     "user": {
      "displayName": "",
      "photoUrl": "",
      "userId": ""
     },
     "user_tz": 300
    },
    "id": "um8xahM1AXkP"
   },
   "outputs": [],
   "source": [
    "\n",
    "# Import the repeated k-fold object\n",
    "# ==============================================================================\n",
    "from sklearn.model_selection import RepeatedKFold\n"
   ]
  },
  {
   "cell_type": "code",
   "execution_count": null,
   "metadata": {
    "executionInfo": {
     "elapsed": 13,
     "status": "ok",
     "timestamp": 1629689268240,
     "user": {
      "displayName": "",
      "photoUrl": "",
      "userId": ""
     },
     "user_tz": 300
    },
    "id": "YVLRm-dPAXkP"
   },
   "outputs": [],
   "source": [
    "\n",
    "# Lists to store all of the results\n",
    "# ==============================================================================\n",
    "mae_results_cv  = []\n",
    "rmse_results_cv = []\n",
    "\n",
    "\n",
    "# Initialize the k-fold validator\n",
    "# ==============================================================================\n",
    "cv = RepeatedKFold(n_splits=5, n_repeats=6)\n"
   ]
  },
  {
   "cell_type": "code",
   "execution_count": null,
   "metadata": {
    "executionInfo": {
     "elapsed": 12,
     "status": "ok",
     "timestamp": 1629689268240,
     "user": {
      "displayName": "",
      "photoUrl": "",
      "userId": ""
     },
     "user_tz": 300
    },
    "id": "Goq-H4amAXkP"
   },
   "outputs": [],
   "source": [
    "\n",
    "# Custome MAE function to evaluate the repeated k-fold validation\n",
    "# ==============================================================================\n",
    "\n",
    "def mae_cv(x_trans, y_trans, cross_val, model):\n",
    "    mae_vector = []\n",
    "    \n",
    "    for train_index, test_index in cross_val.split(X_trans, y_trans):\n",
    "    \n",
    "        X_train_cv, X_test_cv = x_trans[train_index], x_trans[test_index]\n",
    "        y_train_cv, y_test_cv = y_trans[train_index], y_trans[test_index]\n",
    "\n",
    "        # fit model\n",
    "        model.fit(X_train_cv, y_train_cv)\n",
    "\n",
    "        # make predictions\n",
    "        y_pred = robust_transformer.inverse_transform(model.predict(X_test_cv).reshape(1, -1))\n",
    "        y_pred = np.nan_to_num(y_pred, nan=np.amin(y_trans))\n",
    "        y_true = robust_transformer.inverse_transform(y_test_cv).reshape(1, -1)\n",
    "        \n",
    "        # store\n",
    "        mae = metrics.mean_absolute_error(y_pred, y_true)\n",
    "        mae_vector.append(np.round(mae, decimals=4))\n",
    "        \n",
    "    \n",
    "    return mae_vector\n"
   ]
  },
  {
   "cell_type": "code",
   "execution_count": null,
   "metadata": {
    "executionInfo": {
     "elapsed": 13,
     "status": "ok",
     "timestamp": 1629689268241,
     "user": {
      "displayName": "",
      "photoUrl": "",
      "userId": ""
     },
     "user_tz": 300
    },
    "id": "2C-phOckAXkP"
   },
   "outputs": [],
   "source": [
    "\n",
    "# Custome RMSE function to evaluate the repeated k-fold validation\n",
    "# ==============================================================================\n",
    "\n",
    "def rmse_cv(x_trans, y_trans, cross_val, model):\n",
    "    rmse_vector = []\n",
    "    \n",
    "    for train_index, test_index in cross_val.split(X_trans, y_trans):\n",
    "    \n",
    "        X_train_cv, X_test_cv = x_trans[train_index], x_trans[test_index]\n",
    "        y_train_cv, y_test_cv = y_trans[train_index], y_trans[test_index]\n",
    "\n",
    "        # fit model\n",
    "        model.fit(X_train_cv, y_train_cv)\n",
    "\n",
    "        # make predictions\n",
    "        y_pred = robust_transformer.inverse_transform(model.predict(X_test_cv).reshape(1, -1))\n",
    "        y_pred = np.nan_to_num(y_pred, nan=np.amin(y_trans))\n",
    "        y_true = robust_transformer.inverse_transform(y_test_cv).reshape(1, -1)\n",
    "        \n",
    "        # store\n",
    "        rmse = np.sqrt(metrics.mean_absolute_error(y_pred, y_true))\n",
    "        rmse_vector.append(np.round(rmse, decimals=4))\n",
    "        \n",
    "    \n",
    "    return rmse_vector\n"
   ]
  },
  {
   "cell_type": "code",
   "execution_count": null,
   "metadata": {
    "executionInfo": {
     "elapsed": 13,
     "status": "ok",
     "timestamp": 1629689268241,
     "user": {
      "displayName": "",
      "photoUrl": "",
      "userId": ""
     },
     "user_tz": 300
    },
    "id": "fdcbAQ_hAXkP"
   },
   "outputs": [],
   "source": [
    "\n",
    "# Store models and names\n",
    "# ==============================================================================\n",
    "\n",
    "models_cv = []\n",
    "\n",
    "models_cv.append((\"LinearRegression\", LinearRegression()))\n",
    "models_cv.append((\"Ridge\", Ridge()))\n",
    "models_cv.append((\"Lasso\", Lasso()))\n",
    "models_cv.append((\"ElasticNet\", ElasticNet()))\n",
    "models_cv.append((\"LinearSVR\", LinearSVR()))\n",
    "models_cv.append((\"SVR\", SVR()))\n",
    "models_cv.append((\"KNeighborsRegressor\", KNeighborsRegressor()))\n",
    "models_cv.append((\"RadiusNeighborsRegressor\", RadiusNeighborsRegressor()))\n",
    "models_cv.append((\"GaussianProcessRegressor\", GaussianProcessRegressor()))\n",
    "models_cv.append((\"PLSRegression\", PLSRegression()))\n",
    "models_cv.append((\"RandomForestRegressor\", RandomForestRegressor()))\n",
    "models_cv.append((\"GradientBoostingRegressor\", GradientBoostingRegressor()))\n"
   ]
  },
  {
   "cell_type": "code",
   "execution_count": null,
   "metadata": {
    "executionInfo": {
     "elapsed": 13,
     "status": "ok",
     "timestamp": 1629689268241,
     "user": {
      "displayName": "",
      "photoUrl": "",
      "userId": ""
     },
     "user_tz": 300
    },
    "id": "l2FgV1tVAXkP"
   },
   "outputs": [],
   "source": [
    "\n",
    "# Store the k-fold results\n",
    "# ==============================================================================\n",
    "mae_results_cv  = []\n",
    "rmse_results_cv = []\n"
   ]
  },
  {
   "cell_type": "code",
   "execution_count": null,
   "metadata": {
    "colab": {
     "base_uri": "https://localhost:8080/"
    },
    "executionInfo": {
     "elapsed": 37099,
     "status": "ok",
     "timestamp": 1629689305327,
     "user": {
      "displayName": "",
      "photoUrl": "",
      "userId": ""
     },
     "user_tz": 300
    },
    "id": "IQEQyyypAXkP",
    "outputId": "2936a4c5-f240-442b-b246-f589159f436a"
   },
   "outputs": [],
   "source": [
    "\n",
    "# Loop to evaluate all models\n",
    "# ==============================================================================\n",
    "\n",
    "for name, model in models_cv:\n",
    "    # MAE\n",
    "    mae_results_cv.append( mae_cv(X_trans, y_trans, cv, model)  )\n",
    "    \n",
    "    # RMSE\n",
    "    rmse_results_cv.append( rmse_cv(X_trans, y_trans, cv, model) )\n",
    "    "
   ]
  },
  {
   "cell_type": "code",
   "execution_count": null,
   "metadata": {
    "executionInfo": {
     "elapsed": 11,
     "status": "ok",
     "timestamp": 1629689305328,
     "user": {
      "displayName": "",
      "photoUrl": "",
      "userId": ""
     },
     "user_tz": 300
    },
    "id": "baPnY5yOAXkP"
   },
   "outputs": [],
   "source": [
    "\n",
    "# Vectors to store all of the mean and standar deviation of the metrics\n",
    "# ==============================================================================\n",
    "mae_mean_vector = [np.round(np.mean(case), decimals=3) for case in mae_results_cv]\n",
    "mae_std_vector  = [np.round(np.std(case), decimals=3) for case in mae_results_cv]\n",
    "\n",
    "\n",
    "# ==============================================================================\n",
    "# ==============================================================================\n",
    "\n",
    "rmse_mean_vector = [np.round(np.mean(case), decimals=3) for case in rmse_results_cv]\n",
    "rmse_std_vector  = [np.round(np.std(case), decimals=3) for case in rmse_results_cv]\n",
    "\n",
    "\n"
   ]
  },
  {
   "cell_type": "code",
   "execution_count": null,
   "metadata": {
    "colab": {
     "base_uri": "https://localhost:8080/",
     "height": 284
    },
    "executionInfo": {
     "elapsed": 10,
     "status": "ok",
     "timestamp": 1629689305328,
     "user": {
      "displayName": "",
      "photoUrl": "",
      "userId": ""
     },
     "user_tz": 300
    },
    "id": "1VZTseEYAXkQ",
    "outputId": "c48f34a0-a045-4a3b-9268-6e6aeb42d590"
   },
   "outputs": [],
   "source": [
    "\n",
    "# Table for the K-fold results\n",
    "# ==============================================================================\n",
    "cv_results = pd.DataFrame(list(zip(mae_mean_vector, mae_std_vector, \n",
    "                                   rmse_mean_vector, rmse_std_vector)), \n",
    "                  index=names, \n",
    "                  columns =['Mean MAE','MAE Standar Deviation', \n",
    "                            'Mean RMSE','RMSE Standar Deviation'])\n",
    "\n",
    "cv_results.round(4).style.highlight_min(color = 'lightgreen',  \n",
    "                       axis = 0).highlight_max(color = 'LightCoral',  \n",
    "                       axis = 0)\n"
   ]
  },
  {
   "cell_type": "code",
   "execution_count": null,
   "metadata": {
    "colab": {
     "base_uri": "https://localhost:8080/",
     "height": 1000
    },
    "executionInfo": {
     "elapsed": 1000,
     "status": "ok",
     "timestamp": 1629689306319,
     "user": {
      "displayName": "",
      "photoUrl": "",
      "userId": ""
     },
     "user_tz": 300
    },
    "id": "iMUrDrZEAXkQ",
    "outputId": "6d9b8b8c-e888-4cb7-859d-40cd7e12b6b3",
    "scrolled": false
   },
   "outputs": [],
   "source": [
    "\n",
    "# Box plot to summarize the performance of all models for MAE\n",
    "# ==============================================================================\n",
    "\n",
    "plt.figure(figsize=(20,12))\n",
    "plt.title('MAE Results with Repeated K-Fold', fontsize=50)\n",
    "plt.boxplot(mae_results_cv, labels=names)\n",
    "plt.ylim(0, 1.75)\n",
    "plt.xticks(fontsize=25, rotation=90)\n",
    "plt.yticks(fontsize=15)\n",
    "\n",
    "\n",
    "plt.axhline(y=0.6932, ls='--', lw=3)\n",
    "plt.grid(axis='y')\n",
    "plt.show()\n"
   ]
  },
  {
   "cell_type": "code",
   "execution_count": null,
   "metadata": {
    "colab": {
     "base_uri": "https://localhost:8080/",
     "height": 1000
    },
    "executionInfo": {
     "elapsed": 461,
     "status": "ok",
     "timestamp": 1629689306775,
     "user": {
      "displayName": "",
      "photoUrl": "",
      "userId": ""
     },
     "user_tz": 300
    },
    "id": "9i-tihdaAXkQ",
    "outputId": "3ee2d1ef-dbf4-4346-e0d2-c555a21cacbb"
   },
   "outputs": [],
   "source": [
    "\n",
    "# Box plot to summarize the performance of all models for MAE\n",
    "# ==============================================================================\n",
    "\n",
    "plt.figure(figsize=(20,12))\n",
    "plt.title('RMSE Results with Repeated K-Fold', fontsize=50)\n",
    "plt.boxplot(rmse_results_cv, labels=names)\n",
    "plt.ylim(0, 1.5)\n",
    "plt.xticks(fontsize=25, rotation=90)\n",
    "plt.yticks(fontsize=15)\n",
    "\n",
    "\n",
    "plt.axhline(y=0.8326, ls='--', lw=3)\n",
    "plt.grid(axis='y')\n",
    "plt.show()\n"
   ]
  },
  {
   "cell_type": "markdown",
   "metadata": {
    "id": "ytaM138DAXkQ"
   },
   "source": [
    "<br>\n",
    "<br>\n",
    "<br>\n",
    "<br>\n",
    "<br>\n",
    "<br>\n",
    "<br>\n",
    "<br>\n",
    "<br>\n",
    "<br>\n",
    "\n",
    "<font size='6' style=\"color:#00A6D6\">  <b>7. Results & Discussion</b> </font>\n",
    "<a name=\"results\"></a>\n",
    "\n",
    "[[ Back to Top ]](#content)\n",
    "\n",
    "<br>\n",
    "<br>\n",
    "<br>\n"
   ]
  },
  {
   "cell_type": "markdown",
   "metadata": {
    "id": "qZL8Jo_jAXkQ"
   },
   "source": [
    "<font size='4'>\n",
    "\n",
    "As seen in the final benchmark of all models, the Random Forest Regressor performs consistenly well across all strategies giving surprisingly good metrics for a model with no hyper-parameter optimization. \n",
    "\n",
    "Interesting to note ho the performance for the Gaussian Regressor suffers after transforming the features. However, perhaps further optimization of this model will fix this problem.\n",
    "\n",
    "In general, most of the models without optimization do not perform much better than the Linear Regression. As you might already expect after optimizing all of the models we will discar those that do not give a valuable advantge over the reference simple Lienar Regression model.\n",
    "\n",
    "</font> "
   ]
  },
  {
   "cell_type": "markdown",
   "metadata": {
    "id": "QAVHJ7G9AXkQ"
   },
   "source": [
    "\n",
    "\n",
    "\n",
    "<br>\n",
    "<br>\n",
    "<br>\n",
    "<br>\n",
    "<br>\n",
    "<br>\n",
    "<br>\n",
    "<br>\n",
    "<br>\n",
    "<br>\n",
    "\n",
    "<font size='6' style=\"color:#00A6D6\">  <b>8. Perspectives</b> </font>\n",
    "<a name=\"perspectives\"></a>\n",
    "\n",
    "[[ Back to Top ]](#content)\n",
    "\n",
    "<br>\n",
    "<br>\n",
    "<br>\n",
    "\n"
   ]
  },
  {
   "cell_type": "markdown",
   "metadata": {
    "id": "ZMfAC2Y-AXkQ"
   },
   "source": [
    "    i.   Create pipelines to accelerate modeling benchmarking. \n",
    "    ii.  Investigate the drop in performance for the Gaussian Process.  \n",
    "    iii. Explore the impact of adding more molecular descriptors in all models. \n",
    "    iv.  Compare more traditional models, Tree-based models and NN in the benchmark."
   ]
  },
  {
   "cell_type": "markdown",
   "metadata": {
    "id": "9VwOd6mRAXkQ"
   },
   "source": [
    "<br>\n",
    "<br>\n",
    "<br>\n",
    "<br>\n",
    "<br>\n",
    "<br>\n",
    "<font size='6' style=\"color:#00A6D6\">  <b>9. References.</b> </font>\n",
    "<a name=\"references\"></a>\n",
    "\n",
    "[[ Back to Top ]](#Table-of-contents)"
   ]
  },
  {
   "cell_type": "markdown",
   "metadata": {
    "id": "QNeQDNqgAXkQ"
   },
   "source": [
    "[1] <a href=https://medium.com/@ODSC/transforming-skewed-data-for-machine-learning-90e6cc364b0>Transforming Skewed Data for Machine Learning</a>\n",
    "\n",
    "[2] <a href=https://machinelearningmastery.com/power-transforms-with-scikit-learn/>How to Use Power Transforms for Machine Learning</a>\n",
    "\n",
    "[3] <a href=https://towardsdatascience.com/scale-standardize-or-normalize-with-scikit-learn-6ccc7d176a02>Scale, Standardize, or Normalize with Scikit-Learn</a>\n",
    "\n",
    "[4] <a href=https://www.mygreatlearning.com/blog/linear-regression-in-machine-learning/>Linear Regression in Machine Learning Definition, Advantage & uses</a>\n",
    "\n",
    "[5] <a href=https://blog.dataiku.com/tree-based-models-how-they-work-in-plain-english>Tree-Based Models: How They Work (In Plain English!)</a>\n",
    "\n",
    "[6] <a href=https://medium.com/usf-msds/choosing-the-right-metric-for-machine-learning-models-part-1-a99d7d7414e4>Choosing the Right Metric for Evaluating Machine Learning Models — Part 1</a>"
   ]
  },
  {
   "cell_type": "code",
   "execution_count": null,
   "metadata": {
    "executionInfo": {
     "elapsed": 4,
     "status": "ok",
     "timestamp": 1629689306775,
     "user": {
      "displayName": "",
      "photoUrl": "",
      "userId": ""
     },
     "user_tz": 300
    },
    "id": "qyb_RaohAXkQ"
   },
   "outputs": [],
   "source": []
  }
 ],
 "metadata": {
  "colab": {
   "name": "Copia de 2.0-MA-Regression-Solubility.ipynb",
   "provenance": [
    {
     "file_id": "https://github.com/LilianaArguello/RIIA_test/blob/main/Notebooks/2.0-MA-Regression-Solubility.ipynb",
     "timestamp": 1629689821170
    }
   ]
  },
  "kernelspec": {
   "display_name": "Python 3",
   "language": "python",
   "name": "python3"
  },
  "language_info": {
   "codemirror_mode": {
    "name": "ipython",
    "version": 3
   },
   "file_extension": ".py",
   "mimetype": "text/x-python",
   "name": "python",
   "nbconvert_exporter": "python",
   "pygments_lexer": "ipython3",
   "version": "3.7.3"
  }
 },
 "nbformat": 4,
 "nbformat_minor": 1
}
